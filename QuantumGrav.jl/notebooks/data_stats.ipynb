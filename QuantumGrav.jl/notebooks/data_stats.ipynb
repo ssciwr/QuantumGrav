{
 "cells": [
  {
   "cell_type": "code",
   "execution_count": null,
   "id": "0",
   "metadata": {},
   "outputs": [],
   "source": [
    "import Pkg"
   ]
  },
  {
   "cell_type": "code",
   "execution_count": null,
   "id": "1",
   "metadata": {},
   "outputs": [],
   "source": [
    "Pkg.activate(\".\")"
   ]
  },
  {
   "cell_type": "code",
   "execution_count": null,
   "id": "2",
   "metadata": {},
   "outputs": [],
   "source": [
    "Pkg.update()"
   ]
  },
  {
   "cell_type": "code",
   "execution_count": null,
   "id": "3",
   "metadata": {},
   "outputs": [],
   "source": [
    "import QuantumGrav"
   ]
  },
  {
   "cell_type": "code",
   "execution_count": null,
   "id": "4",
   "metadata": {},
   "outputs": [],
   "source": [
    "import Plots\n",
    "import LinearAlgebra\n",
    "import Random\n",
    "import Distributions \n",
    "import SparseArrays\n",
    "import JLD2\n",
    "import ProgressMeter"
   ]
  },
  {
   "cell_type": "code",
   "execution_count": null,
   "id": "5",
   "metadata": {},
   "outputs": [],
   "source": [
    "rng = Random.Xoshiro(12433)"
   ]
  },
  {
   "cell_type": "markdown",
   "id": "6",
   "metadata": {},
   "source": [
    "# Make data"
   ]
  },
  {
   "cell_type": "code",
   "execution_count": null,
   "id": "7",
   "metadata": {},
   "outputs": [],
   "source": [
    "rngs = [Random.Xoshiro(12433 + i) for i in 1:Threads.nthreads()]\n",
    "\n",
    "println(Threads.nthreads())\n",
    "\n",
    "csets = [[] for _ in 1:Threads.nthreads()]\n",
    "conv = [[] for _ in 1:Threads.nthreads()]\n",
    "n = 10000\n",
    "s = 512\n",
    "p = ProgressMeter.Progress(n, 1, \"Generating causets...\")\n",
    "\n",
    "Threads.@threads for i in 1:n\n",
    "    t = Threads.threadid()\n",
    "    rng = rngs[t]\n",
    "\n",
    "    converged = false \n",
    "    while converged == false \n",
    "        cset, convg = QuantumGrav.sample_bitarray_causet_by_connectivity(\n",
    "            s,\n",
    "            0.5,\n",
    "            30,\n",
    "            rng;\n",
    "            abs_tol = 1e-3,\n",
    "            acceptance = 5e5,\n",
    "        )\n",
    "\n",
    "        converged = convg\n",
    "\n",
    "        if converged\n",
    "            push!(csets[t], cset)\n",
    "        end\n",
    "\n",
    "        push!(conv[t], convg)\n",
    "    end\n",
    "    ProgressMeter.next!(p)\n",
    "end\n",
    "ProgressMeter.finish!(p)\n",
    "\n",
    "csets = vcat(csets...)\n",
    "\n",
    "convs = vcat(conv...)\n",
    "\n",
    "\n",
    "JLD2.@save \"random_csets.jld2\" csets convs"
   ]
  },
  {
   "cell_type": "code",
   "execution_count": null,
   "id": "8",
   "metadata": {},
   "outputs": [],
   "source": [
    "csets_manifold = [[] for _ in 1:Threads.nthreads()]\n",
    "\n",
    "p = ProgressMeter.Progress(n, 1, \"Generating adjs...\")\n",
    "Threads.@threads for i in 1:n\n",
    "    t = Threads.threadid()\n",
    "    rng = rngs[t]\n",
    "\n",
    "    cset, _, __ = QuantumGrav.make_manifold_cset(\n",
    "        s,\n",
    "        rng,\n",
    "        24,\n",
    "        3.0,\n",
    "    )\n",
    "    push!(csets_manifold[t], cset)\n",
    "    ProgressMeter.next!(p)\n",
    "end\n",
    "ProgressMeter.finish!(p)\n",
    "\n",
    "JLD2.@save \"manifold_csets.jld2\" csets_manifold\n"
   ]
  },
  {
   "cell_type": "code",
   "execution_count": null,
   "id": "9",
   "metadata": {},
   "outputs": [],
   "source": [
    "JLD2.@load \"manifold_csets.jld2\" csets_manifold\n",
    "JLD2.@load \"random_csets.jld2\" csets convs\n",
    "csets_random = csets "
   ]
  },
  {
   "cell_type": "code",
   "execution_count": null,
   "id": "10",
   "metadata": {},
   "outputs": [],
   "source": [
    "numbroken = count(x -> x == false, convs)\n",
    "println(\"Number of causets: \", length(csets))\n",
    "println(\"Number of broken causets: \", numbroken)\n",
    "println(\"Fraction of broken causets: \", numbroken / length(csets))\n"
   ]
  },
  {
   "cell_type": "markdown",
   "id": "11",
   "metadata": {},
   "source": [
    "## Make adj matrices"
   ]
  },
  {
   "cell_type": "code",
   "execution_count": null,
   "id": "12",
   "metadata": {},
   "outputs": [],
   "source": [
    "to_adj(cset) = reduce(hcat, SparseArrays.sparse.(cset.future_relations)) |> transpose |> SparseArrays.sparse"
   ]
  },
  {
   "cell_type": "code",
   "execution_count": null,
   "id": "13",
   "metadata": {},
   "outputs": [],
   "source": [
    "\n",
    "adjs = [[] for _ in 1:Threads.nthreads()]\n",
    "p = ProgressMeter.Progress(n, 1, \"Generating adjs...\")\n",
    "Threads.@threads for cset in csets\n",
    "    t = Threads.threadid()\n",
    "    push!(adjs[t], to_adj(cset))\n",
    "    ProgressMeter.next!(p)\n",
    "end\n",
    "ProgressMeter.finish!(p)\n",
    "\n",
    "adjs = vcat(adjs...)\n",
    "JLD2.@save \"random_adjs.jld2\" adjs"
   ]
  },
  {
   "cell_type": "code",
   "execution_count": null,
   "id": "14",
   "metadata": {},
   "outputs": [],
   "source": [
    "adjs = [[] for _ in 1:Threads.nthreads()]\n",
    "p = ProgressMeter.Progress(n, 1, \"Generating adjs...\")\n",
    "Threads.@threads for cset in csets_manifold\n",
    "    t = Threads.threadid()\n",
    "    push!(adjs[t], to_adj(cset))\n",
    "    ProgressMeter.next!(p)\n",
    "end\n",
    "ProgressMeter.finish!(p)\n",
    "\n",
    "adjs = vcat(adjs...)\n",
    "JLD2.@save \"manifold_adjs.jld2\" adjs\n"
   ]
  },
  {
   "cell_type": "code",
   "execution_count": null,
   "id": "15",
   "metadata": {},
   "outputs": [],
   "source": [
    "JLD2.@load \"manifold_adjs.jld2\" adjs\n",
    "manifold_adjs = deepcopy(adjs)\n",
    "JLD2.@load \"random_adjs.jld2\" adjs\n",
    "random_adjs = deepcopy(adjs)"
   ]
  },
  {
   "cell_type": "markdown",
   "id": "16",
   "metadata": {},
   "source": [
    "## Make Degree Matrices"
   ]
  },
  {
   "cell_type": "code",
   "execution_count": null,
   "id": "17",
   "metadata": {},
   "outputs": [],
   "source": [
    "degs(adj) = LinearAlgebra.Diagonal(sum(Int.(adj), dims=2)[:, 1]) |> SparseArrays.sparse\n"
   ]
  },
  {
   "cell_type": "code",
   "execution_count": null,
   "id": "18",
   "metadata": {},
   "outputs": [],
   "source": [
    "\n",
    "future_degrees = [[] for _ in 1:Threads.nthreads()]\n",
    "p = ProgressMeter.Progress(n, 1, \"Calculating future degrees...\")\n",
    "Threads.@threads for adj in adjs\n",
    "    t = Threads.threadid()\n",
    "    push!(future_degrees[t], degs(adj))\n",
    "    ProgressMeter.next!(p)\n",
    "end\n",
    "ProgressMeter.finish!(p)\n",
    "future_degrees = vcat(future_degrees...)\n",
    "JLD2.@save \"random_degs.jld2\" future_degrees\n"
   ]
  },
  {
   "cell_type": "code",
   "execution_count": null,
   "id": "19",
   "metadata": {},
   "outputs": [],
   "source": [
    "\n",
    "future_degrees = [[] for _ in 1:Threads.nthreads()]\n",
    "p = ProgressMeter.Progress(n, 1, \"Calculating future degrees...\")\n",
    "Threads.@threads for adj in adjs\n",
    "    t = Threads.threadid()\n",
    "    push!(future_degrees[t], degs(adj))\n",
    "    ProgressMeter.next!(p)\n",
    "end\n",
    "ProgressMeter.finish!(p)\n",
    "future_degrees = vcat(future_degrees...)\n",
    "JLD2.@save \"manifold_degs.jld2\" future_degrees\n"
   ]
  },
  {
   "cell_type": "code",
   "execution_count": null,
   "id": "20",
   "metadata": {},
   "outputs": [],
   "source": [
    "JLD2.@load \"manifold_degs.jld2\" future_degrees\n",
    "manifold_degs = deepcopy(future_degrees)\n",
    "\n",
    "JLD2.@load \"random_degs.jld2\" future_degrees\n",
    "random_degs = deepcopy(future_degrees)\n",
    "\n",
    "future_degrees = nothing "
   ]
  },
  {
   "cell_type": "markdown",
   "id": "21",
   "metadata": {},
   "source": [
    "# Make Laplacian"
   ]
  },
  {
   "cell_type": "code",
   "execution_count": null,
   "id": "22",
   "metadata": {},
   "outputs": [],
   "source": [
    "lap(adj) = degs(adj) - adj\n"
   ]
  },
  {
   "cell_type": "code",
   "execution_count": null,
   "id": "23",
   "metadata": {},
   "outputs": [],
   "source": [
    "\n",
    "future_laps = [[] for _ in 1:Threads.nthreads()]\n",
    "p = ProgressMeter.Progress(n, 1, \"Calculating future laplacians...\")\n",
    "Threads.@threads for adj in adjs\n",
    "    t = Threads.threadid()\n",
    "    push!(future_laps[t], lap(adj))\n",
    "    ProgressMeter.next!(p)\n",
    "end\n",
    "ProgressMeter.finish!(p)\n",
    "\n",
    "future_laps = vcat(future_laps...)\n",
    "JLD2.@save \"random_laps.jld2\" future_laps\n",
    "\n"
   ]
  },
  {
   "cell_type": "code",
   "execution_count": null,
   "id": "24",
   "metadata": {},
   "outputs": [],
   "source": [
    "future_laps = [[] for _ in 1:Threads.nthreads()]\n",
    "p = ProgressMeter.Progress(n, 1, \"Calculating future laplacians...\")\n",
    "Threads.@threads for adj in adjs\n",
    "    t = Threads.threadid()\n",
    "    push!(future_laps[t], degs(adj) - adj)\n",
    "    ProgressMeter.next!(p)\n",
    "end\n",
    "ProgressMeter.finish!(p)\n",
    "\n",
    "future_laps = vcat(future_laps...)\n",
    "JLD2.@save \"manifold_laps.jld2\" future_laps\n"
   ]
  },
  {
   "cell_type": "code",
   "execution_count": null,
   "id": "25",
   "metadata": {},
   "outputs": [],
   "source": [
    "JLD2.@load \"manifold_laps.jld2\" future_laps\n",
    "manifold_laps = deepcopy(future_laps)\n",
    "\n",
    "JLD2.@load \"random_laps.jld2\" future_laps\n",
    "random_laps = deepcopy(future_laps)\n",
    "\n",
    "future_laps = nothing"
   ]
  },
  {
   "cell_type": "markdown",
   "id": "26",
   "metadata": {},
   "source": [
    "# Max pathlens"
   ]
  },
  {
   "cell_type": "code",
   "execution_count": null,
   "id": "27",
   "metadata": {},
   "outputs": [],
   "source": [
    "n = size(manifold_adjs[1], 1)"
   ]
  },
  {
   "cell_type": "markdown",
   "id": "28",
   "metadata": {},
   "source": [
    "## find sources and sinks\n",
    "\n",
    "A source is a node that has no predessesors <=> it's past relations are empty <=> it's past degree is zero. likewise for sinks, the same holds but into the future"
   ]
  },
  {
   "cell_type": "code",
   "execution_count": null,
   "id": "29",
   "metadata": {},
   "outputs": [],
   "source": [
    "csets_manifold = vcat(csets_manifold...)"
   ]
  },
  {
   "cell_type": "code",
   "execution_count": null,
   "id": "30",
   "metadata": {},
   "outputs": [],
   "source": [
    "manifold_sources = []\n",
    "manifold_sinks = []\n",
    "for cset in csets_manifold\n",
    "    source_nodes = []\n",
    "    sink_nodes = []\n",
    "    for (i,v) in enumerate(cset.past_relations) \n",
    "        if all(v .== false)\n",
    "            push!(source_nodes, i)\n",
    "        end\n",
    "    end\n",
    "\n",
    "    for (i,v) in enumerate(cset.future_relations)\n",
    "        if all(v .== false)\n",
    "            push!(sink_nodes, i)\n",
    "        end\n",
    "    end\n",
    "\n",
    "    push!(manifold_sources, source_nodes)\n",
    "    push!(manifold_sinks, sink_nodes)\n",
    "end\n",
    "\n",
    "random_sources = []\n",
    "random_sinks = []\n",
    "for cset in csets_random\n",
    "    source_nodes = []\n",
    "    sink_nodes = []\n",
    "    for (i,v) in enumerate(cset.past_relations)\n",
    "        if all(v .== false)\n",
    "            push!(source_nodes, i)\n",
    "        end\n",
    "    end\n",
    "\n",
    "    for (i,v) in enumerate(cset.future_relations)\n",
    "        if all(v .== false)\n",
    "            push!(sink_nodes, i)\n",
    "        end\n",
    "    end\n",
    "\n",
    "    push!(random_sources, source_nodes)\n",
    "    push!(random_sinks, sink_nodes)\n",
    "end"
   ]
  },
  {
   "cell_type": "code",
   "execution_count": null,
   "id": "31",
   "metadata": {},
   "outputs": [],
   "source": [
    "random_source_numbers = [length(s) for s in random_sources]\n"
   ]
  },
  {
   "cell_type": "code",
   "execution_count": null,
   "id": "32",
   "metadata": {},
   "outputs": [],
   "source": [
    "manifold_source_numbers = [length(s) for s in manifold_sources]"
   ]
  },
  {
   "cell_type": "code",
   "execution_count": null,
   "id": "33",
   "metadata": {},
   "outputs": [],
   "source": [
    "JLD2.@save \"manifold_sources.jld2\" manifold_sources\n",
    "JLD2.@save \"manifold_sinks.jld2\" manifold_sinks\n",
    "JLD2.@save \"random_sources.jld2\" random_sources\n",
    "JLD2.@save \"random_sinks.jld2\" random_sinks"
   ]
  },
  {
   "cell_type": "code",
   "execution_count": null,
   "id": "34",
   "metadata": {},
   "outputs": [],
   "source": [
    "pathlens_manifold = [[] for _ in 1:Threads.nthreads()]\n",
    "Threads.@threads for i in 1:length(manifold_adjs)\n",
    "    adj = manifold_adjs[i]\n",
    "    pathlens_i = [QuantumGrav.max_pathlen(adj, collect(1:n), s)\n",
    "                  for s in manifold_sources[i]]\n",
    "    push!(pathlens_manifold[Threads.threadid()], pathlens_i)\n",
    "end  \n",
    "pathlens_manifold = vcat(pathlens_manifold...)\n",
    "\n",
    "pathlens_random = [[] for _ in 1:Threads.nthreads()]\n",
    "Threads.@threads for i in 1:length(random_adjs)\n",
    "    adj = random_adjs[i]\n",
    "    pathlens_i = [QuantumGrav.max_pathlen(adj, collect(1:n), s)\n",
    "                  for s in random_sources[i]]\n",
    "    push!(pathlens_random[Threads.threadid()], pathlens_i)\n",
    "end\n",
    "pathlens_random = vcat(pathlens_random...)\n",
    "\n",
    "JLD2.@save \"manifold_pathlens.jld2\" pathlens_manifold\n",
    "JLD2.@save \"random_pathlens.jld2\" pathlens_random"
   ]
  },
  {
   "cell_type": "markdown",
   "id": "35",
   "metadata": {},
   "source": [
    "## Laplacian EVs"
   ]
  },
  {
   "cell_type": "code",
   "execution_count": null,
   "id": "36",
   "metadata": {},
   "outputs": [],
   "source": [
    "JLD2.@load \"manifold_laps.jld2\" future_laps\n",
    "manifold_laps = deepcopy(future_laps)\n",
    "\n",
    "JLD2.@load \"random_laps.jld2\" future_laps\n",
    "random_laps = deepcopy(future_laps)\n",
    "\n",
    "future_laps = nothing"
   ]
  },
  {
   "cell_type": "code",
   "execution_count": null,
   "id": "37",
   "metadata": {},
   "outputs": [],
   "source": [
    "num_zeros = []\n",
    "five_largest = []\n",
    "for i in 1:length(manifold_laps)\n",
    "    m = LinearAlgebra.eigen(Matrix{Int64}(manifold_laps[i]))\n",
    "    nz = count(x -> abs(x)< 1e-9, m.values)\n",
    "    fv = m.values[end-5:end]\n",
    "    push!(num_zeros, nz)\n",
    "    push!(five_largest, fv)\n",
    "end\n",
    "\n",
    "JLD2.@save \"manifold_lap_num_zero_ev.jld2\" num_zeros\n",
    "JLD2.@save \"manifold_lap_five_largest_ev.jld2\" five_largest"
   ]
  },
  {
   "cell_type": "code",
   "execution_count": null,
   "id": "38",
   "metadata": {},
   "outputs": [],
   "source": [
    "num_zeros = []\n",
    "five_largest = []\n",
    "for i in 1:length(random_laps)\n",
    "    m = LinearAlgebra.eigen(Matrix{Int64}(random_laps[i]))\n",
    "    nz = count(x -> abs(x)< 1e-9, m.values)\n",
    "    fv = m.values[end-5:end]\n",
    "    push!(num_zeros, nz)\n",
    "    push!(five_largest, fv)\n",
    "end\n",
    "\n",
    "JLD2.@save \"random_lap_num_zero_ev.jld2\" num_zeros\n",
    "JLD2.@save \"random_lap_five_largest_ev.jld2\" five_largest"
   ]
  },
  {
   "cell_type": "markdown",
   "id": "39",
   "metadata": {},
   "source": [
    "# Plot data"
   ]
  },
  {
   "cell_type": "code",
   "execution_count": null,
   "id": "40",
   "metadata": {},
   "outputs": [],
   "source": [
    "using Plots\n",
    "using JLD2 \n",
    "using Statistics"
   ]
  },
  {
   "cell_type": "markdown",
   "id": "41",
   "metadata": {},
   "source": [
    "## Degree distributions"
   ]
  },
  {
   "cell_type": "code",
   "execution_count": null,
   "id": "42",
   "metadata": {},
   "outputs": [],
   "source": [
    "JLD2.@load \"manifold_degs.jld2\" future_degrees\n",
    "manifold_degs = deepcopy(future_degrees)\n",
    "JLD2.@load \"random_degs.jld2\" future_degrees\n",
    "random_degs = deepcopy(future_degrees)"
   ]
  },
  {
   "cell_type": "code",
   "execution_count": null,
   "id": "43",
   "metadata": {},
   "outputs": [],
   "source": [
    "diag_vecs_manifold = map(x->LinearAlgebra.diag(x)|> Vector{Int64}, manifold_degs)"
   ]
  },
  {
   "cell_type": "code",
   "execution_count": null,
   "id": "44",
   "metadata": {},
   "outputs": [],
   "source": [
    "diag_vecs_random = map(x->LinearAlgebra.diag(x)|> Vector{Int64}, random_degs)"
   ]
  },
  {
   "cell_type": "code",
   "execution_count": null,
   "id": "45",
   "metadata": {},
   "outputs": [],
   "source": [
    "min_degree_manifold = minimum.(diag_vecs_manifold)\n",
    "max_degree_manifold = maximum.(diag_vecs_manifold)\n",
    "median_degree_manifold = median.(diag_vecs_manifold)   \n",
    "q25_degree_manifold = quantile.(diag_vecs_manifold, 0.25)\n",
    "q75_degree_manifold = quantile.(diag_vecs_manifold, 0.75)"
   ]
  },
  {
   "cell_type": "code",
   "execution_count": null,
   "id": "46",
   "metadata": {},
   "outputs": [],
   "source": [
    "min_degree_random = minimum.(diag_vecs_random)\n",
    "max_degree_random = maximum.(diag_vecs_random)\n",
    "median_degree_random = median.(diag_vecs_random)   \n",
    "q25_degree_random = quantile.(diag_vecs_random, 0.25)\n",
    "q75_degree_random = quantile.(diag_vecs_random, 0.75)"
   ]
  },
  {
   "cell_type": "code",
   "execution_count": null,
   "id": "47",
   "metadata": {},
   "outputs": [],
   "source": [
    "p1 = histogram(bins=-0.5:5:500.5, min_degree_manifold, title=\"Min degree Manifold\", xlabel=\"Value\", ylabel=\"Frequency\", label=\"manifold\", alpha=0.7)\n",
    "\n",
    "p2 = histogram(bins=-0.5:5:500.5, q25_degree_manifold, title=\"Q25 degree Manifold\", xlabel=\"Value\", ylabel=\"Frequency\", label=\"manifold\", alpha=0.7)\n",
    "\n",
    "p3 = histogram(bins=-0.5:5:500.5, median_degree_manifold, title=\"Median degree Manifold\", xlabel=\"Value\", ylabel=\"Frequency\", label=\"manifold\", alpha=0.7)\n",
    "\n",
    "p4 = histogram(bins=-0.5:5:500.5,q75_degree_manifold, title=\"Q75 degree Manifold\", xlabel=\"Value\", ylabel=\"Frequency\", label=\"manifold\", alpha=0.7)\n",
    "\n",
    "p5 = histogram(bins=-0.5:5:500.5,max_degree_manifold, title=\"Max degree Manifold\", xlabel=\"Value\", ylabel=\"Frequency\", label=\"manifold\", alpha=0.7)"
   ]
  },
  {
   "cell_type": "code",
   "execution_count": null,
   "id": "48",
   "metadata": {},
   "outputs": [],
   "source": [
    "histogram!(p1, bins=-0.5:5:500.5, min_degree_random, title=\"Min future degree random\", xlabel=\"Value\", ylabel=\"Frequency\", label=\"random\", alpha=0.7)\n",
    "\n",
    "histogram!(p2, bins=-0.5:5:500.5, q25_degree_random, title=\"Q25 future degree random\", xlabel=\"Value\", ylabel=\"Frequency\", label=\"random\", alpha=0.7)\n",
    "\n",
    "histogram!(p3, bins=-0.5:5:500.5, median_degree_random, title=\"Median future degree random\", xlabel=\"Value\", ylabel=\"Frequency\", label=\"random\", alpha=0.7)\n",
    "\n",
    "histogram!(p4, bins=-0.5:5:500.5,q75_degree_random, title=\"Q75 future degree random\", xlabel=\"Value\", ylabel=\"Frequency\", label=\"random\", alpha=0.7)\n",
    "\n",
    "histogram!(p5, bins=-0.5:5:500.5,max_degree_random, title=\"Max future degree random\", xlabel=\"Value\", ylabel=\"Frequency\", label=\"random\", alpha=0.7)"
   ]
  },
  {
   "cell_type": "code",
   "execution_count": null,
   "id": "49",
   "metadata": {},
   "outputs": [],
   "source": [
    "p = plot(p1, p2, p3, p4, p5, layout=(3, 2), size=(800, 600), alpha=0.7)\n"
   ]
  },
  {
   "cell_type": "code",
   "execution_count": null,
   "id": "50",
   "metadata": {},
   "outputs": [],
   "source": [
    "savefig(p, \"degree_histograms.png\")"
   ]
  },
  {
   "cell_type": "markdown",
   "id": "51",
   "metadata": {},
   "source": [
    "## number of sinks and sources "
   ]
  },
  {
   "cell_type": "code",
   "execution_count": null,
   "id": "52",
   "metadata": {},
   "outputs": [],
   "source": [
    "JLD2.@load \"manifold_sources.jld2\" manifold_sources\n",
    "JLD2.@load \"manifold_sinks.jld2\" manifold_sinks\n",
    "JLD2.@load \"random_sources.jld2\" random_sources\n",
    "JLD2.@load \"random_sinks.jld2\" random_sinks"
   ]
  },
  {
   "cell_type": "code",
   "execution_count": null,
   "id": "53",
   "metadata": {},
   "outputs": [],
   "source": [
    "num_manifold_sources = [length(s) for s in manifold_sources]\n",
    "num_random_sources = [length(s) for s in random_sources]\n",
    "\n",
    "num_manifold_sinks = [length(s) for s in manifold_sinks]\n",
    "num_random_sinks = [length(s) for s in random_sinks]"
   ]
  },
  {
   "cell_type": "code",
   "execution_count": null,
   "id": "54",
   "metadata": {},
   "outputs": [],
   "source": [
    "p1 = histogram(-0.5:100.5, num_random_sources, xlabel=\"Value\", title=\" Sources\", ylabel=\"Frequency\", label=\"random\", alpha = 0.7);\n",
    "\n",
    "p2 = histogram(bins=-0.5:12.5, num_random_sinks, xlabel=\"Value\", title=\" Sinks\", ylabel=\"Frequency\", label=\"random\", alpha = 0.7);\n",
    "\n",
    "histogram!(p1, -0.5:100.5, num_manifold_sources, label=\"manifolds\", xlabel=\"Value\", ylabel=\"Frequency\", alpha = 0.7);\n",
    "\n",
    "histogram!(p2, bins=-0.5:12.5, num_manifold_sinks, xlabel=\"Value\", ylabel=\"Frequency\", label=\"manifolds\", alpha = 0.7);"
   ]
  },
  {
   "cell_type": "code",
   "execution_count": null,
   "id": "55",
   "metadata": {},
   "outputs": [],
   "source": [
    "p = plot(p1, p2, layout=(2,1), size=(800, 600),)"
   ]
  },
  {
   "cell_type": "code",
   "execution_count": null,
   "id": "56",
   "metadata": {},
   "outputs": [],
   "source": [
    "savefig(p, \"sink_sources_histogram.png\")"
   ]
  },
  {
   "cell_type": "markdown",
   "id": "57",
   "metadata": {},
   "source": [
    "## max pathlens"
   ]
  },
  {
   "cell_type": "code",
   "execution_count": null,
   "id": "58",
   "metadata": {},
   "outputs": [],
   "source": [
    "using Statistics"
   ]
  },
  {
   "cell_type": "code",
   "execution_count": null,
   "id": "59",
   "metadata": {},
   "outputs": [],
   "source": [
    "JLD2.@load \"manifold_pathlens.jld2\" pathlens_manifold\n",
    "JLD2.@load \"random_pathlens.jld2\" pathlens_random"
   ]
  },
  {
   "cell_type": "code",
   "execution_count": null,
   "id": "60",
   "metadata": {},
   "outputs": [],
   "source": [
    "min_pathlens_manifold = minimum.(pathlens_manifold)\n",
    "max_pathlens_manifold = maximum.(pathlens_manifold)\n",
    "median_pathlens_manifold = median.(pathlens_manifold)   \n",
    "q25_pathlens_manifold = quantile.(pathlens_manifold, 0.25)\n",
    "q75_pathlens_manifold = quantile.(pathlens_manifold, 0.75)"
   ]
  },
  {
   "cell_type": "code",
   "execution_count": null,
   "id": "61",
   "metadata": {},
   "outputs": [],
   "source": [
    "p1 = histogram(bins =-0.5:75.5, min_pathlens_manifold, title=\"Min Pathlens \", xlabel=\"Value\", ylabel=\"Frequency\", label=\"manifold\", alpha=0.7)\n",
    "\n",
    "p2 = histogram(bins =-0.5:75.5, q25_pathlens_manifold, title=\"Q25 Pathlens \", xlabel=\"Value\", ylabel=\"Frequency\", label=\"manifold\", alpha=0.7)\n",
    "\n",
    "p3 = histogram(bins =-0.5:75.5, median_pathlens_manifold, title=\"Median Pathlens \", xlabel=\"Value\", ylabel=\"Frequency\", label=\"manifold\", alpha=0.7)\n",
    "\n",
    "p4 = histogram(bins =-0.5:75.5, q75_pathlens_manifold, title=\"Q75 Pathlens \", xlabel=\"Value\", ylabel=\"Frequency\", label=\"manifold\", alpha=0.7)\n",
    "\n",
    "p5 = histogram(bins =-0.5:75.5, max_pathlens_manifold, title=\"Max Pathlens \", xlabel=\"Value\", ylabel=\"Frequency\", label=\"manifold\", alpha=0.7)\n"
   ]
  },
  {
   "cell_type": "code",
   "execution_count": null,
   "id": "62",
   "metadata": {},
   "outputs": [],
   "source": [
    "min_pathlens_random = minimum.(pathlens_random)\n",
    "max_pathlens_random = maximum.(pathlens_random)\n",
    "median_pathlens_random = median.(pathlens_random)   \n",
    "q25_pathlens_random = quantile.(pathlens_random, 0.25)\n",
    "q75_pathlens_random= quantile.(pathlens_random, 0.75)"
   ]
  },
  {
   "cell_type": "code",
   "execution_count": null,
   "id": "63",
   "metadata": {},
   "outputs": [],
   "source": [
    "histogram!(p1, bins =-0.5:75.5, min_pathlens_random, title=\"Min Pathlens Manifold\", xlabel=\"Value\", ylabel=\"Frequency\", label=\"random\", alpha=0.7)\n",
    "\n",
    "histogram!(p2, bins =-0.5:75.5, q25_pathlens_random, title=\"Q25 Pathlens Manifold\", xlabel=\"Value\", ylabel=\"Frequency\", label=\"random\", alpha=0.7)\n",
    "\n",
    "histogram!(p3, bins =-0.5:75.5, median_pathlens_random, title=\"Median Pathlens Manifold\", xlabel=\"Value\", ylabel=\"Frequency\", label=\"random\", alpha=0.7)\n",
    "\n",
    "histogram!(p4, bins =-0.5:75.5, q75_pathlens_random, title=\"Q75 Pathlens Manifold\", xlabel=\"Value\", ylabel=\"Frequency\", label=\"random\", alpha=0.7)\n",
    "\n",
    "histogram!(p5, bins =-0.5:75.5, max_pathlens_random, title=\"Max Pathlens Manifold\", xlabel=\"Value\", ylabel=\"Frequency\", label=\"random\", alpha=0.7)"
   ]
  },
  {
   "cell_type": "code",
   "execution_count": null,
   "id": "64",
   "metadata": {},
   "outputs": [],
   "source": [
    "p = plot(p1, p2, p3, p4, p5, layout=(3, 2), size=(800, 600),)"
   ]
  },
  {
   "cell_type": "code",
   "execution_count": null,
   "id": "65",
   "metadata": {},
   "outputs": [],
   "source": [
    "savefig(p, \"pathlens_histogram.png\")"
   ]
  },
  {
   "cell_type": "markdown",
   "id": "66",
   "metadata": {},
   "source": [
    "## number of zero EVs"
   ]
  },
  {
   "cell_type": "code",
   "execution_count": null,
   "id": "67",
   "metadata": {},
   "outputs": [],
   "source": [
    "JLD2.@load \"manifold_lap_num_zero_ev.jld2\" num_zeros\n",
    "num_zeros_manifold = deepcopy(num_zeros)\n",
    "\n",
    "JLD2.@load \"random_lap_num_zero_ev.jld2\" num_zeros\n",
    "num_zeros_random = deepcopy(num_zeros)"
   ]
  },
  {
   "cell_type": "code",
   "execution_count": null,
   "id": "68",
   "metadata": {},
   "outputs": [],
   "source": [
    "p = histogram(bins= -0.5:100.5, num_zeros_manifold, title=\"Number of zero eigenvalues manifold\", xlabel=\"Value\", ylabel=\"Frequency\", label=\"manifold\", alpha=0.7)\n",
    "histogram!(p, bins= -0.5:100.5, num_zeros_random, title=\"Number of zero eigenvalues random\", xlabel=\"Value\", ylabel=\"Frequency\", label=\"random\", alpha=0.7)"
   ]
  },
  {
   "cell_type": "code",
   "execution_count": null,
   "id": "69",
   "metadata": {},
   "outputs": [],
   "source": [
    "savefig(p, \"num_zero_evs_histogram.png\")"
   ]
  },
  {
   "cell_type": "markdown",
   "id": "70",
   "metadata": {},
   "source": [
    "## five largest evs"
   ]
  },
  {
   "cell_type": "code",
   "execution_count": null,
   "id": "71",
   "metadata": {},
   "outputs": [],
   "source": [
    "JLD2.@load \"manifold_lap_five_largest_ev.jld2\" five_largest\n",
    "five_largest_manifold = deepcopy(five_largest)\n",
    "\n",
    "JLD2.@load \"random_lap_five_largest_ev.jld2\" five_largest\n",
    "five_largest_random = deepcopy(five_largest)"
   ]
  },
  {
   "cell_type": "code",
   "execution_count": null,
   "id": "72",
   "metadata": {},
   "outputs": [],
   "source": [
    "largest_evs_manifold = hcat(five_largest_manifold...)\n",
    "largest_evs_random = hcat(five_largest_random...)"
   ]
  },
  {
   "cell_type": "code",
   "execution_count": null,
   "id": "73",
   "metadata": {},
   "outputs": [],
   "source": [
    "p1 = histogram(bins=-0.5:5:500.5, largest_evs_manifold[1, :], title=\"1st ev\", xlabel=\"Value\", ylabel=\"Frequency\", label=\"manifold\", alpha=0.7)\n",
    "histogram!(p1, bins=-0.5:5:500.5, largest_evs_random[1, :], title=\"1st ev random\", xlabel=\"Value\", ylabel=\"Frequency\", label=\"random\", alpha=0.7)\n",
    "\n",
    "p2 = histogram(bins=-0.5:5:500.5, largest_evs_manifold[2, :], title=\"2nd ev\", xlabel=\"Value\", ylabel=\"Frequency\", label=\"manifold\", alpha=0.7)\n",
    "histogram!(p2, bins=-0.5:5:500.5, largest_evs_random[2, :], title=\"2nd ev random\", xlabel=\"Value\", ylabel=\"Frequency\", label=\"random\", alpha=0.7)\n",
    "\n",
    "p3 = histogram(bins=-0.5:5:500.5, largest_evs_manifold[3, :], title=\"3rd ev\", xlabel=\"Value\", ylabel=\"Frequency\", label=\"manifold\", alpha=0.7)\n",
    "histogram!(p3, bins=-0.5:5:500.5, largest_evs_random[3, :], title=\"3rd ev random\", xlabel=\"Value\", ylabel=\"Frequency\", label=\"random\", alpha=0.7)\n",
    "\n",
    "p4 = histogram(bins=-0.5:5:500.5, largest_evs_manifold[4, :], title=\"4th ev\", xlabel=\"Value\", ylabel=\"Frequency\", label=\"manifold\", alpha=0.7)\n",
    "histogram!(p4, bins=-0.5:5:500.5, largest_evs_random[4, :], title=\"4th ev random\", xlabel=\"Value\", ylabel=\"Frequency\", label=\"random\", alpha=0.7)\n",
    "\n",
    "p5 = histogram(bins=-0.5:5:500.5, largest_evs_manifold[5, :], title=\"5th ev\", xlabel=\"Value\", ylabel=\"Frequency\", label=\"manifold\", alpha=0.7)\n",
    "histogram!(p5, bins=-0.5:5:500.5, largest_evs_random[5, :], title=\"5th ev random\", xlabel=\"Value\", ylabel=\"Frequency\", label=\"random\", alpha=0.7)\n",
    "\n",
    "p6 = histogram(bins=-0.5:5:500.5, largest_evs_manifold[6, :], title=\"6th ev\", xlabel=\"Value\", ylabel=\"Frequency\", label=\"manifold\", alpha=0.7)\n",
    "histogram!(p6, bins=-0.5:5:500.5, largest_evs_random[6, :], title=\"6th ev random\", xlabel=\"Value\", ylabel=\"Frequency\", label=\"random\", alpha=0.7)\n",
    "\n",
    "p = plot(p1, p2, p3, p4, p5, p6, layout=(3, 2), size=(800, 600), alpha=0.7)"
   ]
  },
  {
   "cell_type": "code",
   "execution_count": null,
   "id": "74",
   "metadata": {},
   "outputs": [],
   "source": [
    "savefig(p, \"largest_evs_histogram.png\")"
   ]
  }
 ],
 "metadata": {
  "kernelspec": {
   "display_name": "Julia 1.11.6",
   "language": "julia",
   "name": "julia-1.11"
  },
  "language_info": {
   "file_extension": ".jl",
   "mimetype": "application/julia",
   "name": "julia",
   "version": "1.11.6"
  }
 },
 "nbformat": 4,
 "nbformat_minor": 5
}
