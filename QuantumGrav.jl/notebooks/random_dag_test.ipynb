{
 "cells": [
  {
   "cell_type": "code",
   "execution_count": null,
   "id": "0",
   "metadata": {},
   "outputs": [],
   "source": [
    "import Pkg \n",
    "Pkg.activate(\".\")\n",
    "Pkg.instantiate()\n"
   ]
  },
  {
   "cell_type": "code",
   "execution_count": null,
   "id": "1",
   "metadata": {},
   "outputs": [],
   "source": [
    "import Random \n",
    "import Distributions \n",
    "import SparseArrays\n",
    "import StatsBase\n",
    "import CausalSets\n",
    "\n",
    "# fucking QuantumGrav package import not working... again\n",
    "include(\"../src/daggeneration.jl\") # \n",
    "include(\"../src/datageneration.jl\") # for QuantumGrav.jl"
   ]
  },
  {
   "cell_type": "code",
   "execution_count": null,
   "id": "2",
   "metadata": {},
   "outputs": [],
   "source": [
    "function future_deg(rng, i, past, atom_count)\n",
    "    distr = Distributions.Binomial(length(past), 0.5)\n",
    "    return min(3, length(past))\n",
    "    # return Distributions.rand(rng, distr)\n",
    "end"
   ]
  },
  {
   "cell_type": "code",
   "execution_count": null,
   "id": "3",
   "metadata": {},
   "outputs": [],
   "source": [
    "function link_prob(rng, i, j)\n",
    "    if i == j\n",
    "        return 0.0\n",
    "    end\n",
    "\n",
    "    return 1e-7 * exp(-abs(i - j) / 10.0)\n",
    "end"
   ]
  },
  {
   "cell_type": "code",
   "execution_count": null,
   "id": "4",
   "metadata": {},
   "outputs": [],
   "source": [
    "rng= Random.Xoshiro(234)"
   ]
  },
  {
   "cell_type": "code",
   "execution_count": null,
   "id": "5",
   "metadata": {},
   "outputs": [],
   "source": [
    "cset, adj = create_random_cset(\n",
    "    15, \n",
    "    future_deg, \n",
    "    link_prob, \n",
    "    rng, )"
   ]
  },
  {
   "cell_type": "code",
   "execution_count": null,
   "id": "6",
   "metadata": {},
   "outputs": [],
   "source": [
    "adj |> SparseArrays.sparse"
   ]
  },
  {
   "cell_type": "code",
   "execution_count": null,
   "id": "7",
   "metadata": {},
   "outputs": [],
   "source": [
    "adj[1, :]"
   ]
  },
  {
   "cell_type": "markdown",
   "id": "8",
   "metadata": {},
   "source": [
    "this actually will go wrong because some transitive edges are missing and cannot be identified as such"
   ]
  },
  {
   "cell_type": "code",
   "execution_count": null,
   "id": "9",
   "metadata": {},
   "outputs": [],
   "source": [
    "adj2 = deepcopy(adj)\n",
    "transitive_reduction!(adj2) \n",
    "adj2 |> SparseArrays.sparse"
   ]
  },
  {
   "cell_type": "code",
   "execution_count": null,
   "id": "10",
   "metadata": {},
   "outputs": [],
   "source": [
    "transitive_closure!(adj)\n",
    "adj |> SparseArrays.sparse"
   ]
  },
  {
   "cell_type": "code",
   "execution_count": null,
   "id": "11",
   "metadata": {},
   "outputs": [],
   "source": [
    "transitive_reduction!(adj) \n",
    "adj|> SparseArrays.sparse"
   ]
  },
  {
   "cell_type": "code",
   "execution_count": null,
   "id": "12",
   "metadata": {},
   "outputs": [],
   "source": [
    "make_link_matrix(cset) |> SparseArrays.SparseMatrixCSC{Bool, Int64}"
   ]
  },
  {
   "cell_type": "code",
   "execution_count": null,
   "id": "13",
   "metadata": {},
   "outputs": [],
   "source": []
  },
  {
   "cell_type": "code",
   "execution_count": null,
   "id": "14",
   "metadata": {},
   "outputs": [],
   "source": []
  }
 ],
 "metadata": {
  "kernelspec": {
   "display_name": "Julia 1.11.6",
   "language": "julia",
   "name": "julia-1.11"
  },
  "language_info": {
   "file_extension": ".jl",
   "mimetype": "application/julia",
   "name": "julia",
   "version": "1.11.6"
  }
 },
 "nbformat": 4,
 "nbformat_minor": 5
}
