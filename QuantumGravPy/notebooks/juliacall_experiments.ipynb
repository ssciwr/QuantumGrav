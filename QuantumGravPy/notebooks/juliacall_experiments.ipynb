{
 "cells": [
  {
   "cell_type": "code",
   "execution_count": null,
   "id": "0",
   "metadata": {},
   "outputs": [],
   "source": [
    "\n",
    "import QuantumGrav as QGPy\n",
    "\n",
    "from typing import Any\n",
    "\n",
    "import multiprocessing\n",
    "multiprocessing.set_start_method(\"spawn\", force=True)\n"
   ]
  },
  {
   "cell_type": "code",
   "execution_count": null,
   "id": "1",
   "metadata": {},
   "outputs": [],
   "source": [
    "from multiprocessing import Pipe, Process\n"
   ]
  },
  {
   "cell_type": "code",
   "execution_count": null,
   "id": "2",
   "metadata": {},
   "outputs": [],
   "source": [
    "import torch \n",
    "from torch_geometric.utils import dense_to_sparse\n",
    "from torch_geometric.data import Data\n",
    "def transform(raw) -> Data:\n",
    "    print(\"keys: \", raw.keys())\n",
    "    # this function will transform the raw data dictionary from Julia into a PyTorch Geometric Data object. Hence, we have to deal with julia objects here\n",
    "    adj_raw = raw[\"adjacency_matrix\"].to_numpy()\n",
    "    adj_matrix = torch.tensor(adj_raw, dtype=torch.float32)\n",
    "    edge_index, edge_weight = dense_to_sparse(adj_matrix)\n",
    "    adj_matrix = adj_matrix.to_sparse()\n",
    "\n",
    "    node_features = []\n",
    "\n",
    "    max_path_future = torch.tensor(\n",
    "        raw[\"max_pathlen_future\"], dtype=torch.float32\n",
    "    ).unsqueeze(1)  # make this a (num_nodes, 1) tensor\n",
    "\n",
    "    max_path_past = torch.tensor(\n",
    "        raw[\"max_pathlen_past\"], dtype=torch.float32\n",
    "    ).unsqueeze(1)  # make this a (num_nodes, 1) tensor\n",
    "\n",
    "    node_features.extend([max_path_future, max_path_past])\n",
    "\n",
    "    # Concatenate all node features\n",
    "    x = torch.cat(node_features, dim=1)\n",
    "    classes = [raw[\"manifold\"], raw[\"boundary\"], raw[\"dimension\"]]\n",
    "    y = torch.tensor(classes, dtype=torch.long)\n",
    "    data = Data(\n",
    "        x=x,\n",
    "        edge_index=edge_index,\n",
    "        edge_attr=edge_weight,\n",
    "        y=y,\n",
    "    )\n",
    "\n",
    "    return data"
   ]
  },
  {
   "cell_type": "code",
   "execution_count": null,
   "id": "3",
   "metadata": {},
   "outputs": [],
   "source": [
    "onthefly_config = {\n",
    "    \"seed\": 42,\n",
    "    \"n_processes\": 1,\n",
    "}"
   ]
  },
  {
   "cell_type": "code",
   "execution_count": null,
   "id": "4",
   "metadata": {},
   "outputs": [],
   "source": [
    "otf_dataset = QGPy.QGDatasetOnthefly(\n",
    "        config=onthefly_config,\n",
    "        jl_code_path=\"../test/julia_testmodule.jl\",\n",
    "        jl_func_name=\"Generator\",\n",
    "        jl_base_module_path=\"../../QuantumGrav.jl\",\n",
    "        jl_dependencies=[\n",
    "            \"Distributions\",\n",
    "            \"Random\",\n",
    "        ],\n",
    "        transform=transform,\n",
    "    )"
   ]
  },
  {
   "cell_type": "code",
   "execution_count": null,
   "id": "5",
   "metadata": {},
   "outputs": [],
   "source": [
    "parent_end, child_end = Pipe()\n",
    "\n",
    "worker = Process(\n",
    "    target=QGPy.julia_worker.worker_loop,\n",
    "    args=(\n",
    "        child_end,\n",
    "        onthefly_config,\n",
    "        \"../test/julia_testmodule.jl\",\n",
    "        \"Generator\",\n",
    "        \"../../QuantumGrav.jl\",\n",
    "        [\n",
    "            \"Distributions\",\n",
    "            \"Random\",\n",
    "        ],\n",
    "    ),\n",
    ")\n",
    "\n",
    "worker.start()"
   ]
  },
  {
   "cell_type": "code",
   "execution_count": null,
   "id": "6",
   "metadata": {},
   "outputs": [],
   "source": [
    "parent_end.send(\"GET\")"
   ]
  },
  {
   "cell_type": "code",
   "execution_count": null,
   "id": "7",
   "metadata": {},
   "outputs": [],
   "source": [
    "data = parent_end.recv()\n",
    "print(data)"
   ]
  },
  {
   "cell_type": "code",
   "execution_count": null,
   "id": "8",
   "metadata": {},
   "outputs": [],
   "source": [
    "otf_dataset.shutdown()"
   ]
  },
  {
   "cell_type": "code",
   "execution_count": null,
   "id": "9",
   "metadata": {},
   "outputs": [],
   "source": [
    "worker.join()"
   ]
  },
  {
   "cell_type": "code",
   "execution_count": null,
   "id": "10",
   "metadata": {},
   "outputs": [],
   "source": []
  }
 ],
 "metadata": {
  "kernelspec": {
   "display_name": ".venv",
   "language": "python",
   "name": "python3"
  },
  "language_info": {
   "codemirror_mode": {
    "name": "ipython",
    "version": 3
   },
   "file_extension": ".py",
   "mimetype": "text/x-python",
   "name": "python",
   "nbconvert_exporter": "python",
   "pygments_lexer": "ipython3",
   "version": "3.12.3"
  }
 },
 "nbformat": 4,
 "nbformat_minor": 5
}
