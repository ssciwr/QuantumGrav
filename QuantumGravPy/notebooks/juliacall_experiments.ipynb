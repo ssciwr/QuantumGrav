{
 "cells": [
  {
   "cell_type": "code",
   "execution_count": null,
   "id": "0",
   "metadata": {},
   "outputs": [],
   "source": [
    "import juliacall as jcall\n",
    "from pathlib import Path\n",
    "import os"
   ]
  },
  {
   "cell_type": "code",
   "execution_count": null,
   "id": "1",
   "metadata": {},
   "outputs": [],
   "source": [
    "class JuliaInterface:\n",
    "    package_path: Path | str | None = None\n",
    "    module = None\n",
    "    custom_modules: dict[str, Path] | None = None\n",
    "\n",
    "    def __init__(self, package_path: str | Path | None = None):\n",
    "        # set up package name\n",
    "        if package_path is None:\n",
    "            # README: this seems brittle -> how to do better? -> use installation of quantumgrav locally and use the module path from there?\n",
    "            self.package_path = (\n",
    "                Path(os.path.abspath(__file__)).parent.parent.parent / \"QuantumGrav.jl\"\n",
    "            )\n",
    "            self.add_to_load_path(self.package_path)\n",
    "        else:\n",
    "            self.package_path = Path(os.path.abspath(package_path))\n",
    "        self.module = jcall.newmodule(\"QuantumGravFromPy\")\n",
    "        self.custom_modules = {}\n",
    "        self._initialize_quantumgrav_module()\n",
    "\n",
    "    def add_to_load_path(self, path: str | Path) -> None:\n",
    "        path = Path(path).resolve()\n",
    "        self.module.seval(f'push!(LOAD_PATH, \"{path}\")')\n",
    "        # self.logger.info(f\"Added {path} to Julia load path.\")\n",
    "\n",
    "    def load_custom_module(self, path: str | Path) -> None:\n",
    "        path = Path(path).resolve()\n",
    "        self.add_to_load_path(path)\n",
    "        module_name = path.stem\n",
    "        self.custom_modules[module_name] = jcall.newmodule(module_name)\n",
    "\n",
    "    def _initialize_quantumgrav_module(\n",
    "        self,\n",
    "    ) -> None:\n",
    "        try:\n",
    "            self.add_to_load_path(self.package_path)\n",
    "\n",
    "            # this uses the development version of the damn thing, because we don´t have any releases yet\n",
    "            setup_command = f\"\"\"\n",
    "            using Pkg\n",
    "            Pkg.develop(path=\"{self.package_path}/QuantumGrav.jl\")\n",
    "            \"\"\"\n",
    "            print(f\"evaluating {setup_command}\")\n",
    "            # activate local environment\n",
    "            self.module.seval(setup_command)\n",
    "\n",
    "            # load module\n",
    "            self.module.seval(\"using QuantumGrav\")\n",
    "\n",
    "        except Exception as e:\n",
    "            raise RuntimeError(f\"Failed to initialize QuantumGrav.jl: {e}\") from e\n",
    "\n",
    "        # self.logger.info(\n",
    "        #     f\"QuantumGrav.jl initialized successfully from {self.package_path}\"\n",
    "        # )\n",
    "\n",
    "    def get_custom_module(self, module_name: str) -> jcall.Module:\n",
    "        if module_name in self.custom_modules:\n",
    "            return self.custom_modules[module_name]\n",
    "        else:\n",
    "            raise ValueError(f\"Module {module_name} not found in custom modules.\")\n",
    "\n",
    "    @property\n",
    "    def quantumgrav_module(self):\n",
    "        return self.module\n"
   ]
  },
  {
   "cell_type": "code",
   "execution_count": null,
   "id": "2",
   "metadata": {},
   "outputs": [],
   "source": [
    "p = %pwd\n",
    "path = Path(p).parent.parent\n",
    "path"
   ]
  },
  {
   "cell_type": "code",
   "execution_count": null,
   "id": "3",
   "metadata": {},
   "outputs": [],
   "source": [
    "jlinterface = JuliaInterface(path)"
   ]
  },
  {
   "cell_type": "code",
   "execution_count": null,
   "id": "4",
   "metadata": {},
   "outputs": [],
   "source": [
    "jlfunc = \"\"\"\n",
    "    using Random \n",
    "    rng = Random.MersenneTwister(1234)\n",
    "    QuantumGrav.make_cset(\n",
    "    \"Minkowski\",\n",
    "    \"BoxBoundary\",\n",
    "    200,\n",
    "    2,\n",
    "    rng;\n",
    "    type=Float32)\n",
    "\"\"\"\n",
    "\n",
    "result = jlinterface.module.seval(jlfunc)"
   ]
  },
  {
   "cell_type": "code",
   "execution_count": null,
   "id": "5",
   "metadata": {},
   "outputs": [],
   "source": []
  }
 ],
 "metadata": {
  "kernelspec": {
   "display_name": ".venv",
   "language": "python",
   "name": "python3"
  },
  "language_info": {
   "codemirror_mode": {
    "name": "ipython",
    "version": 3
   },
   "file_extension": ".py",
   "mimetype": "text/x-python",
   "name": "python",
   "nbconvert_exporter": "python",
   "pygments_lexer": "ipython3",
   "version": "3.12.3"
  }
 },
 "nbformat": 4,
 "nbformat_minor": 5
}
