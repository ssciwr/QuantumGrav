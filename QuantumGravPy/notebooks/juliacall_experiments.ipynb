{
 "cells": [
  {
   "cell_type": "code",
   "execution_count": null,
   "id": "0",
   "metadata": {},
   "outputs": [],
   "source": [
    "import QuantumGrav as QGPy\n",
    "\n",
    "from typing import Any\n",
    "\n",
    "from juliacall import Main as jl\n",
    "\n",
    "import torch\n",
    "from torch_geometric.utils import dense_to_sparse\n",
    "from torch_geometric.data import Data\n"
   ]
  },
  {
   "cell_type": "code",
   "execution_count": null,
   "id": "1",
   "metadata": {},
   "outputs": [],
   "source": [
    "config = QGPy.QGOntheflyConfig(\n",
    "    boundaries=[1, 2, 3],\n",
    "    dimensions=[2, 3, 4],\n",
    "    manifolds=[1, 2, 3, 4, 5, 6],\n",
    "    n_processes=4,\n",
    "    atom_count_min=400,\n",
    "    atom_count_max=1600,\n",
    "    seed=42,\n",
    "    n_samples=128,\n",
    ")\n"
   ]
  },
  {
   "cell_type": "code",
   "execution_count": null,
   "id": "2",
   "metadata": {},
   "outputs": [],
   "source": [
    "config.boundaries"
   ]
  },
  {
   "cell_type": "code",
   "execution_count": null,
   "id": "3",
   "metadata": {},
   "outputs": [],
   "source": [
    "config.manifolds"
   ]
  },
  {
   "cell_type": "code",
   "execution_count": null,
   "id": "4",
   "metadata": {},
   "outputs": [],
   "source": [
    "config.dimensions"
   ]
  },
  {
   "cell_type": "code",
   "execution_count": null,
   "id": "5",
   "metadata": {},
   "outputs": [],
   "source": [
    "def transform(raw: dict[Any, Any]) -> dict[Any, Any]:\n",
    "    adj_raw = raw[\"adjacency_matrix\"]\n",
    "    adj_matrix = torch.tensor(adj_raw, dtype=torch.float32)\n",
    "    edge_index, edge_weight = dense_to_sparse(adj_matrix)\n",
    "    adj_matrix = adj_matrix.to_sparse()\n",
    "\n",
    "    # Load node features. We are only using degree information and path lengths for now.\n",
    "    node_features = []\n",
    "\n",
    "    # Degree information\n",
    "    in_degrees = torch.tensor(raw[\"in_degrees\"], dtype=torch.float32).unsqueeze(1)\n",
    "    out_degrees = torch.tensor(raw[\"out_degrees\"], dtype=torch.float32).unsqueeze(1)\n",
    "    node_features.extend([in_degrees, out_degrees])\n",
    "\n",
    "    # Path lengths\n",
    "    max_path_future = torch.tensor(\n",
    "        raw[\"max_path_lengths_future\"], dtype=torch.float32\n",
    "    ).unsqueeze(1)  # make this a (num_nodes, 1) tensor\n",
    "\n",
    "    max_path_past = torch.tensor(\n",
    "        raw[\"max_path_lengths_past\"], dtype=torch.float32\n",
    "    ).unsqueeze(1)  # make this a (num_nodes, 1) tensor\n",
    "    node_features.extend([max_path_future, max_path_past])\n",
    "\n",
    "    # Concatenate all node features\n",
    "    x = torch.cat(node_features, dim=1)\n",
    "\n",
    "    datapoint = Data(\n",
    "        x=x,\n",
    "        edge_index=edge_index,\n",
    "        edge_attr=edge_weight.unsqueeze(1)\n",
    "        if edge_weight.numel() > 0\n",
    "        else None,  # Not sure if this is a good idea need to add edge attributes if possible\n",
    "        # the classification target. This concatenates everything into a single 1D tensor.\n",
    "        y=torch.tensor(\n",
    "            [raw[\"manifold\"], raw[\"boundary\"], raw[\"dimension\"]], dtype=torch.long\n",
    "        ),\n",
    "    )\n",
    "\n",
    "    datapoint.validate()\n",
    "\n",
    "    return datapoint"
   ]
  },
  {
   "cell_type": "code",
   "execution_count": null,
   "id": "6",
   "metadata": {},
   "outputs": [],
   "source": [
    "jl_code_path = \"./test_module.jl\"\n",
    "jl_func_name = \"Generator\""
   ]
  },
  {
   "cell_type": "code",
   "execution_count": null,
   "id": "7",
   "metadata": {},
   "outputs": [],
   "source": [
    "from pathlib import Path"
   ]
  },
  {
   "cell_type": "code",
   "execution_count": null,
   "id": "8",
   "metadata": {},
   "outputs": [],
   "source": [
    "Path(\"../../QuantumGrav.jl\").resolve()"
   ]
  },
  {
   "cell_type": "code",
   "execution_count": null,
   "id": "9",
   "metadata": {},
   "outputs": [],
   "source": [
    "gendataset = QGPy.QGDatasetOnthefly(config, jl_code_path, jl_func_name, transform, jl_base_module_path=\"../../QuantumGrav.jl\", jl_dependencies=[\"Distributions\", \"LinearAlgebra\", \"Random\"])"
   ]
  },
  {
   "cell_type": "code",
   "execution_count": null,
   "id": "10",
   "metadata": {},
   "outputs": [],
   "source": [
    "%pwd"
   ]
  },
  {
   "cell_type": "code",
   "execution_count": null,
   "id": "11",
   "metadata": {},
   "outputs": [],
   "source": []
  },
  {
   "cell_type": "code",
   "execution_count": null,
   "id": "12",
   "metadata": {},
   "outputs": [],
   "source": []
  }
 ],
 "metadata": {
  "kernelspec": {
   "display_name": ".venv",
   "language": "python",
   "name": "python3"
  },
  "language_info": {
   "codemirror_mode": {
    "name": "ipython",
    "version": 3
   },
   "file_extension": ".py",
   "mimetype": "text/x-python",
   "name": "python",
   "nbconvert_exporter": "python",
   "pygments_lexer": "ipython3",
   "version": "3.12.3"
  }
 },
 "nbformat": 4,
 "nbformat_minor": 5
}
