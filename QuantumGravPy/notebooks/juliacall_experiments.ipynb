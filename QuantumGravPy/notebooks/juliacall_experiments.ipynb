{
 "cells": [
  {
   "cell_type": "code",
   "execution_count": null,
   "id": "0",
   "metadata": {},
   "outputs": [],
   "source": [
    "import QuantumGravPy as QGPy\n",
    "from typing import Any\n",
    "from torch_geometric.data import Data\n",
    "from juliacall import Main as jl"
   ]
  },
  {
   "cell_type": "code",
   "execution_count": null,
   "id": "1",
   "metadata": {},
   "outputs": [],
   "source": [
    "config = QGPy.QGOntheflyConfig(\n",
    "    boundaries=[1, 2, 3],\n",
    "    dimensions=[2, 3, 4],\n",
    "    manifolds=[1, 2, 3, 4, 5, 6],\n",
    "    n_processes=4,\n",
    "    atom_count_min=400,\n",
    "    atom_count_max=1600,\n",
    "    seed=42,\n",
    "    n_samples=128,\n",
    ")\n"
   ]
  },
  {
   "cell_type": "code",
   "execution_count": null,
   "id": "2",
   "metadata": {},
   "outputs": [],
   "source": [
    "def transform(dict: dict[Any, Any]) -> dict[Any, Any]: \n",
    "    return Data()"
   ]
  },
  {
   "cell_type": "code",
   "execution_count": null,
   "id": "3",
   "metadata": {},
   "outputs": [],
   "source": [
    "jl_code_path = \"./test_module.jl\"\n",
    "jl_func_name = \"generate_data\"\n"
   ]
  },
  {
   "cell_type": "code",
   "execution_count": null,
   "id": "4",
   "metadata": {},
   "outputs": [],
   "source": [
    "QGPy.QGDatasetOnthefly(config, jl_code_path, jl_func_name, transform)"
   ]
  },
  {
   "cell_type": "code",
   "execution_count": null,
   "id": "5",
   "metadata": {},
   "outputs": [],
   "source": []
  },
  {
   "cell_type": "code",
   "execution_count": null,
   "id": "6",
   "metadata": {},
   "outputs": [],
   "source": []
  },
  {
   "cell_type": "code",
   "execution_count": null,
   "id": "7",
   "metadata": {},
   "outputs": [],
   "source": []
  }
 ],
 "metadata": {
  "kernelspec": {
   "display_name": ".venv",
   "language": "python",
   "name": "python3"
  },
  "language_info": {
   "codemirror_mode": {
    "name": "ipython",
    "version": 3
   },
   "file_extension": ".py",
   "mimetype": "text/x-python",
   "name": "python",
   "nbconvert_exporter": "python",
   "pygments_lexer": "ipython3",
   "version": "3.12.3"
  }
 },
 "nbformat": 4,
 "nbformat_minor": 5
}
