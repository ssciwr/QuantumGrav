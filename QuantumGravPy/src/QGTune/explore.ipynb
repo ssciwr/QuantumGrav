{
 "cells": [
  {
   "cell_type": "code",
   "execution_count": 1,
   "id": "026c6fe0",
   "metadata": {},
   "outputs": [
    {
     "name": "stdout",
     "output_type": "stream",
     "text": [
      "Detected IPython. Loading juliacall extension. See https://juliapy.github.io/PythonCall.jl/stable/compat/#IPython\n"
     ]
    },
    {
     "name": "stderr",
     "output_type": "stream",
     "text": [
      "/home/tuyen/anaconda3/envs/quantumgrav/lib/python3.13/site-packages/tqdm/auto.py:21: TqdmWarning: IProgress not found. Please update jupyter and ipywidgets. See https://ipywidgets.readthedocs.io/en/stable/user_install.html\n",
      "  from .autonotebook import tqdm as notebook_tqdm\n"
     ]
    }
   ],
   "source": [
    "import QuantumGrav as QG\n",
    "import yaml"
   ]
  },
  {
   "cell_type": "code",
   "execution_count": 2,
   "id": "eff74f19",
   "metadata": {},
   "outputs": [],
   "source": [
    "test_config_file = \"test.yaml\""
   ]
  },
  {
   "cell_type": "code",
   "execution_count": 3,
   "id": "c78e5eae",
   "metadata": {},
   "outputs": [],
   "source": [
    "yaml_loader = QG.config_utils.get_loader()\n",
    "with open(test_config_file, \"r\") as f:\n",
    "    config = yaml.load(f, Loader=yaml_loader)"
   ]
  },
  {
   "cell_type": "code",
   "execution_count": 4,
   "id": "73882aff",
   "metadata": {},
   "outputs": [
    {
     "data": {
      "text/plain": [
       "{'epoch': {'type': 'range',\n",
       "  'values': np.float64(4.454703004557234),\n",
       "  'tune_values': (2.5, 10, True)},\n",
       " 'epoch_clone': {'type': 'reference',\n",
       "  'target': ['something', 'somethingelse', 1, 'anotherthing']}}"
      ]
     },
     "execution_count": 4,
     "metadata": {},
     "output_type": "execute_result"
    }
   ],
   "source": [
    "config"
   ]
  }
 ],
 "metadata": {
  "kernelspec": {
   "display_name": "quantumgrav",
   "language": "python",
   "name": "python3"
  },
  "language_info": {
   "codemirror_mode": {
    "name": "ipython",
    "version": 3
   },
   "file_extension": ".py",
   "mimetype": "text/x-python",
   "name": "python",
   "nbconvert_exporter": "python",
   "pygments_lexer": "ipython3",
   "version": "3.13.5"
  }
 },
 "nbformat": 4,
 "nbformat_minor": 5
}
