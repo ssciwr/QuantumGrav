{
 "cells": [
  {
   "cell_type": "code",
   "execution_count": 5,
   "id": "026c6fe0",
   "metadata": {},
   "outputs": [],
   "source": [
    "import QuantumGrav as QG\n",
    "import yaml"
   ]
  },
  {
   "cell_type": "code",
   "execution_count": 6,
   "id": "eff74f19",
   "metadata": {},
   "outputs": [],
   "source": [
    "test_config_file = \"test.yaml\""
   ]
  },
  {
   "cell_type": "code",
   "execution_count": 7,
   "id": "c78e5eae",
   "metadata": {},
   "outputs": [],
   "source": [
    "yaml_loader = QG.config_utils.get_loader()\n",
    "with open(test_config_file, \"r\") as f:\n",
    "    config = yaml.load(f, Loader=yaml_loader)"
   ]
  },
  {
   "cell_type": "code",
   "execution_count": 8,
   "id": "73882aff",
   "metadata": {},
   "outputs": [
    {
     "data": {
      "text/plain": [
       "{'epoch': {'type': 'range', 'values': (2.5, 10, True)},\n",
       " 'epoch_clone': {'type': 'range', 'values': (2.5, 10, True)}}"
      ]
     },
     "execution_count": 8,
     "metadata": {},
     "output_type": "execute_result"
    }
   ],
   "source": [
    "config"
   ]
  }
 ],
 "metadata": {
  "kernelspec": {
   "display_name": "quantumgrav",
   "language": "python",
   "name": "python3"
  },
  "language_info": {
   "codemirror_mode": {
    "name": "ipython",
    "version": 3
   },
   "file_extension": ".py",
   "mimetype": "text/x-python",
   "name": "python",
   "nbconvert_exporter": "python",
   "pygments_lexer": "ipython3",
   "version": "3.13.5"
  }
 },
 "nbformat": 4,
 "nbformat_minor": 5
}
