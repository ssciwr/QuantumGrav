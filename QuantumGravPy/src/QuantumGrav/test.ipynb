{
 "cells": [
  {
   "cell_type": "code",
   "execution_count": null,
   "id": "0",
   "metadata": {},
   "outputs": [
    {
     "data": {
      "text/plain": [
       "6"
      ]
     },
     "execution_count": 82,
     "metadata": {},
     "output_type": "execute_result"
    }
   ],
   "source": [
    "from typing import Any, Tuple\n",
    "import yaml\n",
    "import numpy as np\n",
    "from copy import deepcopy\n",
    "from functools import reduce\n",
    "\n",
    "\n"
   ]
  },
  {
   "cell_type": "code",
   "execution_count": 2,
   "id": "1",
   "metadata": {},
   "outputs": [],
   "source": [
    "def sweep_constructor(\n",
    "    loader: yaml.SafeLoader, node: yaml.nodes.MappingNode\n",
    ") -> dict[str, Any]:\n",
    "    values = loader.construct_sequence(node.value[0][1])\n",
    "    return {\"type\": \"sweep\", \"values\": values}\n",
    "\n",
    "\n",
    "def coupled_sweep_constructor(\n",
    "    loader: yaml.SafeLoader, node: yaml.nodes.MappingNode\n",
    ") -> dict[str, Any]:\n",
    "    target = node.value[0][1].value\n",
    "    values = loader.construct_sequence(node.value[1][1])\n",
    "    return {\"target\": target, \"values\": values, \"type\": \"coupled-sweep\"}\n",
    "\n",
    "\n",
    "def get_loader():\n",
    "    loader = yaml.SafeLoader\n",
    "    loader.add_constructor(\"!sweep\", sweep_constructor)\n",
    "    loader.add_constructor(\"!coupled-sweep\", coupled_sweep_constructor)\n",
    "    return loader"
   ]
  },
  {
   "cell_type": "code",
   "execution_count": 3,
   "id": "2",
   "metadata": {},
   "outputs": [],
   "source": [
    "cfg = yaml.load(open(\"./config.yaml\"), Loader=get_loader())"
   ]
  },
  {
   "cell_type": "code",
   "execution_count": 4,
   "id": "3",
   "metadata": {},
   "outputs": [
    {
     "data": {
      "text/plain": [
       "{'sweepname': {'type': 'sweep', 'values': [1, 2, 3, 4, 5]},\n",
       " 'othersweep': {'type': 'sweep', 'values': ['x', 'y', 'z']},\n",
       " 'coupled_sweep': {'target': 'sweepname',\n",
       "  'values': [6, 7, 8, 9, 10],\n",
       "  'type': 'coupled-sweep'},\n",
       " 'nested': {'a': {'b': {'type': 'sweep', 'values': [11, 12, 13, 14, 15]},\n",
       "   'c': 'x'}},\n",
       " 'd': {'target': 'othersweep',\n",
       "  'values': ['a', 'b', 'c'],\n",
       "  'type': 'coupled-sweep'}}"
      ]
     },
     "execution_count": 4,
     "metadata": {},
     "output_type": "execute_result"
    }
   ],
   "source": [
    "cfg"
   ]
  },
  {
   "cell_type": "code",
   "execution_count": null,
   "id": "4",
   "metadata": {},
   "outputs": [],
   "source": [
    "class Run:\n",
    "    def __init__(self, config: dict):\n",
    "        self.config = config\n",
    "        self.run_configs = []\n",
    "        sweep_targets = {}\n",
    "        coupled_targets = {}\n",
    "        self._cfg_helper(self.config, sweep_targets, coupled_targets)\n",
    "\n",
    "        print(sweep_targets)\n",
    "        print(coupled_targets)\n",
    "\n",
    "        self.run_configs = self._construct_run_configs(sweep_targets, coupled_targets)\n",
    "        num_elems = reduce(\n",
    "            lambda x, y: x * y, [len(v[\"values\"]) for _, v in sweep_targets.items()], 1\n",
    "        )\n",
    "        print(\n",
    "            len(self.run_configs),\n",
    "            num_elems,\n",
    "            len(set([tuple(s) for s in self.run_configs])),\n",
    "        )\n",
    "\n",
    "    def _cfg_helper(\n",
    "        self, cfg_node: dict, sweep_targets, coupled_targets\n",
    "    ) -> Tuple[list[Any], list[Any]]:\n",
    "        for key, node in cfg_node.items():\n",
    "            if isinstance(node, dict) and \"type\" in node:\n",
    "                if node[\"type\"] == \"sweep\":\n",
    "                    sweep_targets[key] = {\"key\": key, \"values\": node[\"values\"]}\n",
    "                elif node[\"type\"] == \"coupled-sweep\":\n",
    "                    coupled_targets[key] = {\n",
    "                        \"target\": node[\"target\"],\n",
    "                        \"values\": node[\"values\"],\n",
    "                    }\n",
    "            elif isinstance(node, dict):\n",
    "                self._cfg_helper(node, sweep_targets, coupled_targets)\n",
    "            else:\n",
    "                continue  # we ignore leafs\n",
    "\n",
    "        for k, v in coupled_targets.items():\n",
    "            sweep_targets[v[\"target\"]][\"partner\"] = v[\"values\"]\n",
    "\n",
    "        return sweep_targets\n",
    "\n",
    "    def _element_helper(\n",
    "        self, elements, current_list, possible_partner, all_lists, *args, i=0\n",
    "    ):\n",
    "        i += 1\n",
    "        for k in range(len(current_list)):\n",
    "            v = current_list[k]\n",
    "            if possible_partner is not None:\n",
    "                w = possible_partner[k]\n",
    "                if i < len(all_lists):\n",
    "                    self._element_helper(\n",
    "                        elements,\n",
    "                        all_lists[i][0],\n",
    "                        all_lists[i][1],\n",
    "                        all_lists,\n",
    "                        *args,\n",
    "                        v,\n",
    "                        w,\n",
    "                        i=i,\n",
    "                    )\n",
    "                else:\n",
    "                    self._element_helper(\n",
    "                        elements,\n",
    "                        all_lists[i][0],\n",
    "                        all_lists[i][1],\n",
    "                        all_lists,\n",
    "                        *args,\n",
    "                        v,\n",
    "                        i=i,\n",
    "                    )\n",
    "            else:\n",
    "                elements.append([*args, v])\n",
    "\n",
    "    def _construct_run_configs(self, sweep_targets, coupled_targets):\n",
    "        # make list of tuple values\n",
    "        keys = list(sweep_targets.keys())\n",
    "        lists = [\n",
    "            (\n",
    "                sweep_targets[k][\"values\"],\n",
    "                sweep_targets[k][\"partner\"] if \"partner\" in sweep_targets[k] else None,\n",
    "            )\n",
    "            for k in keys\n",
    "        ]\n",
    "        i = 0\n",
    "        elements = []\n",
    "        self._element_helper(elements, lists[i][0], lists[i][1], lists, i=i)\n",
    "        print(elements)\n",
    "\n",
    "        return elements"
   ]
  },
  {
   "cell_type": "code",
   "execution_count": 103,
   "id": "5",
   "metadata": {},
   "outputs": [
    {
     "name": "stdout",
     "output_type": "stream",
     "text": [
      "{'sweepname': {'key': 'sweepname', 'values': [1, 2, 3, 4, 5], 'partner': [6, 7, 8, 9, 10]}, 'othersweep': {'key': 'othersweep', 'values': ['x', 'y', 'z'], 'partner': ['a', 'b', 'c']}, 'b': {'key': 'b', 'values': [11, 12, 13, 14, 15]}}\n",
      "{'coupled_sweep': {'target': 'sweepname', 'values': [6, 7, 8, 9, 10]}, 'd': {'target': 'othersweep', 'values': ['a', 'b', 'c']}}\n",
      "[[1, 6, 'x', 'a', 11], [1, 6, 'x', 'a', 12], [1, 6, 'x', 'a', 13], [1, 6, 'x', 'a', 14], [1, 6, 'x', 'a', 15], [1, 6, 'y', 'b', 11], [1, 6, 'y', 'b', 12], [1, 6, 'y', 'b', 13], [1, 6, 'y', 'b', 14], [1, 6, 'y', 'b', 15], [1, 6, 'z', 'c', 11], [1, 6, 'z', 'c', 12], [1, 6, 'z', 'c', 13], [1, 6, 'z', 'c', 14], [1, 6, 'z', 'c', 15], [2, 7, 'x', 'a', 11], [2, 7, 'x', 'a', 12], [2, 7, 'x', 'a', 13], [2, 7, 'x', 'a', 14], [2, 7, 'x', 'a', 15], [2, 7, 'y', 'b', 11], [2, 7, 'y', 'b', 12], [2, 7, 'y', 'b', 13], [2, 7, 'y', 'b', 14], [2, 7, 'y', 'b', 15], [2, 7, 'z', 'c', 11], [2, 7, 'z', 'c', 12], [2, 7, 'z', 'c', 13], [2, 7, 'z', 'c', 14], [2, 7, 'z', 'c', 15], [3, 8, 'x', 'a', 11], [3, 8, 'x', 'a', 12], [3, 8, 'x', 'a', 13], [3, 8, 'x', 'a', 14], [3, 8, 'x', 'a', 15], [3, 8, 'y', 'b', 11], [3, 8, 'y', 'b', 12], [3, 8, 'y', 'b', 13], [3, 8, 'y', 'b', 14], [3, 8, 'y', 'b', 15], [3, 8, 'z', 'c', 11], [3, 8, 'z', 'c', 12], [3, 8, 'z', 'c', 13], [3, 8, 'z', 'c', 14], [3, 8, 'z', 'c', 15], [4, 9, 'x', 'a', 11], [4, 9, 'x', 'a', 12], [4, 9, 'x', 'a', 13], [4, 9, 'x', 'a', 14], [4, 9, 'x', 'a', 15], [4, 9, 'y', 'b', 11], [4, 9, 'y', 'b', 12], [4, 9, 'y', 'b', 13], [4, 9, 'y', 'b', 14], [4, 9, 'y', 'b', 15], [4, 9, 'z', 'c', 11], [4, 9, 'z', 'c', 12], [4, 9, 'z', 'c', 13], [4, 9, 'z', 'c', 14], [4, 9, 'z', 'c', 15], [5, 10, 'x', 'a', 11], [5, 10, 'x', 'a', 12], [5, 10, 'x', 'a', 13], [5, 10, 'x', 'a', 14], [5, 10, 'x', 'a', 15], [5, 10, 'y', 'b', 11], [5, 10, 'y', 'b', 12], [5, 10, 'y', 'b', 13], [5, 10, 'y', 'b', 14], [5, 10, 'y', 'b', 15], [5, 10, 'z', 'c', 11], [5, 10, 'z', 'c', 12], [5, 10, 'z', 'c', 13], [5, 10, 'z', 'c', 14], [5, 10, 'z', 'c', 15]]\n",
      "75 75 75\n"
     ]
    }
   ],
   "source": [
    "runner = Run(cfg)"
   ]
  },
  {
   "cell_type": "code",
   "execution_count": null,
   "id": "6",
   "metadata": {},
   "outputs": [],
   "source": []
  }
 ],
 "metadata": {
  "kernelspec": {
   "display_name": ".venv",
   "language": "python",
   "name": "python3"
  },
  "language_info": {
   "codemirror_mode": {
    "name": "ipython",
    "version": 3
   },
   "file_extension": ".py",
   "mimetype": "text/x-python",
   "name": "python",
   "nbconvert_exporter": "python",
   "pygments_lexer": "ipython3",
   "version": "3.13.7"
  }
 },
 "nbformat": 4,
 "nbformat_minor": 5
}
