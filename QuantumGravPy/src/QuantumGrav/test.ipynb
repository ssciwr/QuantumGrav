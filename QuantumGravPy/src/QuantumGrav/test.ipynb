{
 "cells": [
  {
   "cell_type": "code",
   "execution_count": null,
   "id": "0",
   "metadata": {},
   "outputs": [],
   "source": [
    "from typing import Any, Tuple\n",
    "import yaml\n",
    "import numpy as np\n",
    "import itertools"
   ]
  },
  {
   "cell_type": "code",
   "execution_count": null,
   "id": "1",
   "metadata": {},
   "outputs": [],
   "source": [
    "def sweep_constructor(\n",
    "    loader: yaml.SafeLoader, node: yaml.nodes.MappingNode\n",
    ") -> dict[str, Any]:\n",
    "    values = loader.construct_sequence(node.value[0][1])\n",
    "    return {\"type\": \"sweep\", \"values\": values}\n",
    "\n",
    "\n",
    "def coupled_sweep_constructor(\n",
    "    loader: yaml.SafeLoader, node: yaml.nodes.MappingNode\n",
    ") -> dict[str, Any]:\n",
    "    target = node.value[0][1].value\n",
    "    values = loader.construct_sequence(node.value[1][1])\n",
    "    return {\"target\": target, \"values\": values, \"type\": \"coupled-sweep\"}\n",
    "\n",
    "\n",
    "def get_loader():\n",
    "    loader = yaml.SafeLoader\n",
    "    loader.add_constructor(\"!sweep\", sweep_constructor)\n",
    "    loader.add_constructor(\"!coupled-sweep\", coupled_sweep_constructor)\n",
    "    return loader"
   ]
  },
  {
   "cell_type": "code",
   "execution_count": null,
   "id": "2",
   "metadata": {},
   "outputs": [],
   "source": [
    "cfg = yaml.load(open(\"./config.yaml\"), Loader=get_loader())"
   ]
  },
  {
   "cell_type": "code",
   "execution_count": null,
   "id": "3",
   "metadata": {},
   "outputs": [],
   "source": [
    "cfg"
   ]
  },
  {
   "cell_type": "code",
   "execution_count": null,
   "id": "4",
   "metadata": {},
   "outputs": [],
   "source": [
    "class Run:\n",
    "    def __init__(self, config: dict):\n",
    "        self.config = config\n",
    "        self.run_configs = []\n",
    "        sweep_targets = {}\n",
    "        coupled_targets = {}\n",
    "        self._cfg_helper(self.config, sweep_targets, coupled_targets)\n",
    "\n",
    "        print(sweep_targets)\n",
    "        print(coupled_targets)\n",
    "\n",
    "        self.run_configs = self._construct_run_configs(sweep_targets, coupled_targets)\n",
    "        print(self.run_configs)\n",
    "\n",
    "    def _cfg_helper(\n",
    "        self, cfg_node: dict, sweep_targets, coupled_targets\n",
    "    ) -> Tuple[list[Any], list[Any]]:\n",
    "        for key, node in cfg_node.items():\n",
    "            if isinstance(node, dict) and \"type\" in node:\n",
    "                if node[\"type\"] == \"sweep\":\n",
    "                    sweep_targets[key] = {\"key\": key, \"values\": node[\"values\"]}\n",
    "                elif node[\"type\"] == \"coupled-sweep\":\n",
    "                    coupled_targets[key] = {\n",
    "                        \"target\": node[\"target\"],\n",
    "                        \"values\": node[\"values\"],\n",
    "                    }\n",
    "            elif isinstance(node, dict):\n",
    "                self._cfg_helper(node, sweep_targets, coupled_targets)\n",
    "            else:\n",
    "                continue  # we ignore leafs\n",
    "\n",
    "        return sweep_targets, coupled_targets\n",
    "\n",
    "    def _construct_run_configs(self, sweep_targets, coupled_targets):\n",
    "        # make list of tuple values\n",
    "        num_elements = 1\n",
    "        shape = {}\n",
    "\n",
    "        return num_elements, shape"
   ]
  },
  {
   "cell_type": "code",
   "execution_count": null,
   "id": "5",
   "metadata": {},
   "outputs": [],
   "source": [
    "runner = Run(cfg)"
   ]
  },
  {
   "cell_type": "code",
   "execution_count": null,
   "id": "6",
   "metadata": {},
   "outputs": [],
   "source": []
  }
 ],
 "metadata": {
  "kernelspec": {
   "display_name": ".venv",
   "language": "python",
   "name": "python3"
  },
  "language_info": {
   "codemirror_mode": {
    "name": "ipython",
    "version": 3
   },
   "file_extension": ".py",
   "mimetype": "text/x-python",
   "name": "python",
   "nbconvert_exporter": "python",
   "pygments_lexer": "ipython3",
   "version": "3.12.3"
  }
 },
 "nbformat": 4,
 "nbformat_minor": 5
}
