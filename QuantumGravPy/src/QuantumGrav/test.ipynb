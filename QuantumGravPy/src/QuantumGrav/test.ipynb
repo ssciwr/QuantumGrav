{
 "cells": [
  {
   "cell_type": "code",
   "execution_count": 3,
   "id": "0",
   "metadata": {},
   "outputs": [],
   "source": [
    "from typing import Any, Tuple\n",
    "import yaml\n",
    "import numpy as np\n",
    "import itertools"
   ]
  },
  {
   "cell_type": "code",
   "execution_count": 4,
   "id": "1",
   "metadata": {},
   "outputs": [],
   "source": [
    "def sweep_constructor(\n",
    "    loader: yaml.SafeLoader, node: yaml.nodes.MappingNode\n",
    ") -> dict[str, Any]:\n",
    "    values = loader.construct_sequence(node.value[0][1])\n",
    "    return {\"type\": \"sweep\", \"values\": values}\n",
    "\n",
    "\n",
    "def coupled_sweep_constructor(\n",
    "    loader: yaml.SafeLoader, node: yaml.nodes.MappingNode\n",
    ") -> dict[str, Any]:\n",
    "    target = node.value[0][1].value\n",
    "    values = loader.construct_sequence(node.value[1][1])\n",
    "    return {\"target\": target, \"values\": values, \"type\": \"coupled-sweep\"}\n",
    "\n",
    "\n",
    "def get_loader():\n",
    "    loader = yaml.SafeLoader\n",
    "    loader.add_constructor(\"!sweep\", sweep_constructor)\n",
    "    loader.add_constructor(\"!coupled-sweep\", coupled_sweep_constructor)\n",
    "    return loader"
   ]
  },
  {
   "cell_type": "code",
   "execution_count": 5,
   "id": "2",
   "metadata": {},
   "outputs": [],
   "source": [
    "cfg = yaml.load(open(\"./config.yaml\"), Loader=get_loader())"
   ]
  },
  {
   "cell_type": "code",
   "execution_count": 6,
   "id": "3",
   "metadata": {},
   "outputs": [
    {
     "data": {
      "text/plain": [
       "{'sweepname': {'type': 'sweep', 'values': [1, 2, 3, 4, 5]},\n",
       " 'othersweep': {'type': 'sweep', 'values': ['x', 'y', 'z']},\n",
       " 'coupled_sweep': {'target': 'sweepname',\n",
       "  'values': [6, 7, 8, 9, 10],\n",
       "  'type': 'coupled-sweep'},\n",
       " 'nested': {'a': {'b': {'type': 'sweep', 'values': [11, 12, 13, 14, 15]},\n",
       "   'c': 'x'}},\n",
       " 'd': {'target': 'othersweep',\n",
       "  'values': ['a', 'b', 'c'],\n",
       "  'type': 'coupled-sweep'}}"
      ]
     },
     "execution_count": 6,
     "metadata": {},
     "output_type": "execute_result"
    }
   ],
   "source": [
    "cfg"
   ]
  },
  {
   "cell_type": "code",
   "execution_count": null,
   "id": "4",
   "metadata": {},
   "outputs": [],
   "source": [
    "class Run:\n",
    "    def __init__(self, config: dict):\n",
    "        self.config = config\n",
    "        self.run_configs = []\n",
    "        sweep_targets = {}\n",
    "        coupled_targets = {}\n",
    "        self._cfg_helper(self.config, sweep_targets, coupled_targets)\n",
    "\n",
    "        print(sweep_targets)\n",
    "        print(coupled_targets)\n",
    "\n",
    "        self.run_configs = self._construct_run_configs(sweep_targets, coupled_targets)\n",
    "        print(self.run_configs)\n",
    "\n",
    "    def _cfg_helper(\n",
    "        self, cfg_node: dict, sweep_targets, coupled_targets\n",
    "    ) -> Tuple[list[Any], list[Any]]:\n",
    "        for key, node in cfg_node.items():\n",
    "            if isinstance(node, dict) and \"type\" in node:\n",
    "                if node[\"type\"] == \"sweep\":\n",
    "                    sweep_targets[key] = {\"key\": key, \"values\": node[\"values\"]}\n",
    "                elif node[\"type\"] == \"coupled-sweep\":\n",
    "                    coupled_targets[key] = {\n",
    "                        \"target\": node[\"target\"],\n",
    "                        \"values\": node[\"values\"],\n",
    "                    }\n",
    "            elif isinstance(node, dict):\n",
    "                self._cfg_helper(node, sweep_targets, coupled_targets)\n",
    "            else:\n",
    "                continue  # we ignore leafs\n",
    "\n",
    "        return sweep_targets, coupled_targets\n",
    "\n",
    "    def _cartesian_helper(self, key_current, current_set, key_next, next_set):\n",
    "        for v in current_set:\n",
    "            for w in next_set:\n",
    "                pass\n",
    "\n",
    "\n",
    "    def _construct_run_configs(self, sweep_targets, coupled_targets):\n",
    "        # make list of tuple values\n",
    "        elements = []\n",
    "        value = []\n",
    "        i = 0\n",
    "        j = 0\n",
    "        lists = [v[\"values\"] for k, v in sweep_targets.items()]\n",
    "\n",
    "        return elements"
   ]
  },
  {
   "cell_type": "code",
   "execution_count": 46,
   "id": "5",
   "metadata": {},
   "outputs": [
    {
     "name": "stdout",
     "output_type": "stream",
     "text": [
      "{'sweepname': {'key': 'sweepname', 'values': [1, 2, 3, 4, 5]}, 'othersweep': {'key': 'othersweep', 'values': ['x', 'y', 'z']}, 'b': {'key': 'b', 'values': [11, 12, 13, 14, 15]}}\n",
      "{'coupled_sweep': {'target': 'sweepname', 'values': [6, 7, 8, 9, 10]}, 'd': {'target': 'othersweep', 'values': ['a', 'b', 'c']}}\n",
      "11\n",
      "12\n",
      "13\n",
      "14\n",
      "15\n",
      "[]\n"
     ]
    }
   ],
   "source": [
    "runner = Run(cfg)"
   ]
  },
  {
   "cell_type": "code",
   "execution_count": 33,
   "id": "1f538da1",
   "metadata": {},
   "outputs": [
    {
     "name": "stdout",
     "output_type": "stream",
     "text": [
      "1 a\n",
      "1 b\n",
      "1 c\n",
      "2 a\n",
      "2 b\n",
      "2 c\n",
      "3 a\n",
      "3 b\n",
      "3 c\n",
      "4 a\n",
      "4 b\n",
      "4 c\n"
     ]
    }
   ],
   "source": [
    "v = [1,2,3,4]\n",
    "w = [\"a\", \"b\", \"c\"]\n",
    "\n",
    "for v_ in v:\n",
    "    for w_ in w:\n",
    "        print(v_, w_)"
   ]
  },
  {
   "cell_type": "code",
   "execution_count": null,
   "id": "6",
   "metadata": {},
   "outputs": [],
   "source": []
  }
 ],
 "metadata": {
  "kernelspec": {
   "display_name": ".venv",
   "language": "python",
   "name": "python3"
  },
  "language_info": {
   "codemirror_mode": {
    "name": "ipython",
    "version": 3
   },
   "file_extension": ".py",
   "mimetype": "text/x-python",
   "name": "python",
   "nbconvert_exporter": "python",
   "pygments_lexer": "ipython3",
   "version": "3.13.7"
  }
 },
 "nbformat": 4,
 "nbformat_minor": 5
}
