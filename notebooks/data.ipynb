{
 "cells": [
  {
   "cell_type": "code",
   "execution_count": 1,
   "id": "0",
   "metadata": {},
   "outputs": [
    {
     "name": "stderr",
     "output_type": "stream",
     "text": [
      "\u001b[32m\u001b[1m  Activating\u001b[22m\u001b[39m project at `~/Development/QuantumGrav`\n"
     ]
    }
   ],
   "source": [
    "import Pkg \n",
    "Pkg.activate(\"./..\")"
   ]
  },
  {
   "cell_type": "code",
   "execution_count": 2,
   "id": "1",
   "metadata": {},
   "outputs": [],
   "source": [
    "import QuantumGrav as QG\n",
    "import Flux \n",
    "import DataFrames\n",
    "import CausalSets\n",
    "import Arrow\n",
    "import JLD2"
   ]
  },
  {
   "cell_type": "markdown",
   "id": "2",
   "metadata": {},
   "source": [
    "Generate some dummy data first. This is only there to demonstrate the usage of the `Dataset` type with the `Flux.Dataloader` type, so the details of data generation don´t matter here. "
   ]
  },
  {
   "cell_type": "code",
   "execution_count": 3,
   "id": "3",
   "metadata": {},
   "outputs": [
    {
     "data": {
      "text/plain": [
       "Dict{Symbol, Vector} with 17 entries:\n",
       "  :past_relations         => Vector{Vector{Int8}}[[[0, 0, 0, 0, 0, 0, 0, 0, 0, …\n",
       "  :n                      => Float32[977.0, 718.0, 739.0, 833.0, 1028.0, 872.0,…\n",
       "  :chains_4               => Float32[1.64535f9, 4.31597f8, 4.9879f8, 8.88973f8,…\n",
       "  :chains_3               => Float32[2.67767f7, 9.87888f6, 1.11307f7, 1.66091f7…\n",
       "  :chains_10              => Float32[5.56135f16, 2.30276f15, 2.39353f15, 1.4609…\n",
       "  :link_matrix            => SparseMatrixCSC{Float32, Int32}[sparse(Int32[1, 1,…\n",
       "  :chain_dimension_4      => Float32[1.98833, 2.01977, 2.01107, 1.98175, 2.0086…\n",
       "  :coords                 => Vector{Vector{Float32}}[[[-0.474722, 0.0141404], […\n",
       "  :relation_dimension     => Float32[1.97364, 2.02043, 1.99069, 1.98331, 2.0235…\n",
       "  :relation_count         => Float32[243390.0, 126919.0, 137486.0, 175655.0, 25…\n",
       "  :cardinality_abundances => Vector{Float32}[[977.0, 5518.0, 4344.0, 3915.0, 36…\n",
       "  :dimension              => Float32[2.0, 2.0, 2.0, 2.0, 2.0, 2.0, 2.0, 2.0, 2.…\n",
       "  :chain_dimension_3      => Float32[1.98272, 2.02084, 2.00373, 1.98231, 2.0142…\n",
       "  :manifold               => [\"hypercylinder\", \"hypercylinder\", \"minkowski\", \"h…\n",
       "  :future_relations       => Vector{Vector{Int8}}[[[0, 0, 1, 0, 1, 0, 1, 0, 1, …\n",
       "  :nmax                   => Float32[1100.0, 1100.0, 1100.0, 1100.0, 1100.0, 11…\n",
       "  :idx                    => [1, 2, 3, 4, 5, 6, 7, 8, 9, 10  …  119, 120, 121, …"
      ]
     },
     "metadata": {},
     "output_type": "display_data"
    }
   ],
   "source": [
    "data = QG.DataGeneration.generate_data_for_manifold(\n",
    "    dimension = 2,\n",
    "    seed = 329478,\n",
    "    num_datapoints = 128,\n",
    ")"
   ]
  },
  {
   "cell_type": "code",
   "execution_count": 4,
   "id": "9840303d",
   "metadata": {},
   "outputs": [
    {
     "data": {
      "text/plain": [
       "128-element Vector{String}:\n",
       " \"hypercylinder\"\n",
       " \"hypercylinder\"\n",
       " \"minkowski\"\n",
       " \"hypercylinder\"\n",
       " \"antiDeSitter\"\n",
       " \"antiDeSitter\"\n",
       " \"minkowski\"\n",
       " \"torus\"\n",
       " \"hypercylinder\"\n",
       " \"minkowski\"\n",
       " ⋮\n",
       " \"minkowski\"\n",
       " \"deSitter\"\n",
       " \"deSitter\"\n",
       " \"minkowski\"\n",
       " \"minkowski\"\n",
       " \"deSitter\"\n",
       " \"minkowski\"\n",
       " \"torus\"\n",
       " \"torus\""
      ]
     },
     "metadata": {},
     "output_type": "display_data"
    }
   ],
   "source": [
    "data[:manifold]"
   ]
  },
  {
   "cell_type": "markdown",
   "id": "4",
   "metadata": {},
   "source": [
    "create a bunch of files, here with the same data just for demonstration"
   ]
  },
  {
   "cell_type": "code",
   "execution_count": 5,
   "id": "5",
   "metadata": {},
   "outputs": [],
   "source": [
    "dir = tempdir()\n",
    "for i in 1:10   \n",
    "    Arrow.write(joinpath(tempdir(), \"testdata$(i).arrow\"), data)\n",
    "end\n"
   ]
  },
  {
   "cell_type": "code",
   "execution_count": 6,
   "id": "8ed3a278",
   "metadata": {},
   "outputs": [],
   "source": [
    "JLD2.jldopen(joinpath(dir, \"testdata.jld2\"), \"w\") do file\n",
    "    for i in 1:10\n",
    "        for k in keys(data)\n",
    "            file[\"chunk$(i)/$(k)\"] = data[k]\n",
    "        end\n",
    "    end\n",
    "end"
   ]
  },
  {
   "cell_type": "markdown",
   "id": "6",
   "metadata": {},
   "source": [
    "Create a dataset from the thing. The dataset uses lazy loading to fetch data on demand, and caches some of it to allow for a compromise between memory usage and speed. "
   ]
  },
  {
   "cell_type": "code",
   "execution_count": 7,
   "id": "7",
   "metadata": {},
   "outputs": [
    {
     "data": {
      "text/plain": [
       "QuantumGrav.DataLoader.Dataset(\"/var/folders/hb/ydjt274n5xq9fcm68pjb03j80000gn/T\", [\"testdata.arrow\", \"testdata1.arrow\", \"testdata10.arrow\", \"testdata2.arrow\", \"testdata3.arrow\", \"testdata4.arrow\", \"testdata5.arrow\", \"testdata6.arrow\", \"testdata7.arrow\", \"testdata8.arrow\", \"testdata9.arrow\", \"testdata_1.arrow\", \"testdata_2.arrow\", \"testdata_3.arrow\"], Dict(56 => (2, 20), 35 => (1, 35), 425 => (12, 29), 429 => (12, 33), 60 => (2, 24), 220 => (7, 4), 308 => (9, 20), 67 => (2, 31), 215 => (6, 35), 73 => (3, 1)…), 36, Dict{Int64, Any}(), 5, \"arrow\")"
      ]
     },
     "metadata": {},
     "output_type": "display_data"
    }
   ],
   "source": [
    "dset = QG.DataLoader.Dataset(\n",
    "    dir, \n",
    "    mode = \"arrow\",\n",
    "    cache_size = 5\n",
    ")"
   ]
  },
  {
   "cell_type": "code",
   "execution_count": 8,
   "id": "9d54750a",
   "metadata": {},
   "outputs": [
    {
     "data": {
      "text/plain": [
       "QuantumGrav.DataLoader.Dataset(\"/var/folders/hb/ydjt274n5xq9fcm68pjb03j80000gn/T\", \"testdata.jld2\", Dict(1144 => (9, 120), 1175 => (10, 23), 719 => (6, 79), 1028 => (9, 4), 699 => (6, 59), 831 => (7, 63), 1074 => (9, 50), 319 => (3, 63), 687 => (6, 47), 1199 => (10, 47)…), 128, Dict{Int64, Any}(), 5, \"jld2\")"
      ]
     },
     "metadata": {},
     "output_type": "display_data"
    }
   ],
   "source": [
    "dsetjld = QG.DataLoader.Dataset(\n",
    "    dir, \n",
    "    mode = \"jld2\",\n",
    "    cache_size = 5\n",
    ")"
   ]
  },
  {
   "cell_type": "markdown",
   "id": "8",
   "metadata": {},
   "source": [
    "Use the created dataset with a Flux dataloader (itself based on `MLUtils.jl`). We use shuffle and confirm that the data is reordered in the first batch. This can now be used to write a training loop"
   ]
  },
  {
   "cell_type": "code",
   "execution_count": 9,
   "id": "9",
   "metadata": {},
   "outputs": [
    {
     "data": {
      "text/plain": [
       "32-element Vector{String}:\n",
       " \"hypercylinder\"\n",
       " \"hypercylinder\"\n",
       " \"minkowski\"\n",
       " \"hypercylinder\"\n",
       " \"antiDeSitter\"\n",
       " \"antiDeSitter\"\n",
       " \"minkowski\"\n",
       " \"torus\"\n",
       " \"hypercylinder\"\n",
       " \"minkowski\"\n",
       " ⋮\n",
       " \"hypercylinder\"\n",
       " \"deSitter\"\n",
       " \"hypercylinder\"\n",
       " \"minkowski\"\n",
       " \"hypercylinder\"\n",
       " \"antiDeSitter\"\n",
       " \"antiDeSitter\"\n",
       " \"deSitter\"\n",
       " \"deSitter\""
      ]
     },
     "metadata": {},
     "output_type": "display_data"
    }
   ],
   "source": [
    "[x.manifold for x in dset[1:32]] "
   ]
  },
  {
   "cell_type": "code",
   "execution_count": 10,
   "id": "10",
   "metadata": {},
   "outputs": [
    {
     "data": {
      "text/plain": [
       "16-element DataLoader(::QuantumGrav.DataLoader.Dataset, shuffle=true, batchsize=32)\n",
       "  with first element:\n",
       "  32-element Vector{NamedTuple}"
      ]
     },
     "metadata": {},
     "output_type": "display_data"
    }
   ],
   "source": [
    "shuffle_loader = Flux.DataLoader(\n",
    "    dset,\n",
    "    batchsize = 32,\n",
    "    shuffle = true,\n",
    ")"
   ]
  },
  {
   "cell_type": "code",
   "execution_count": 11,
   "id": "11",
   "metadata": {},
   "outputs": [
    {
     "data": {
      "text/plain": [
       "32-element Vector{String}:\n",
       " \"antiDeSitter\"\n",
       " \"hypercylinder\"\n",
       " \"antiDeSitter\"\n",
       " \"deSitter\"\n",
       " \"minkowski\"\n",
       " \"deSitter\"\n",
       " \"hypercylinder\"\n",
       " \"hypercylinder\"\n",
       " \"antiDeSitter\"\n",
       " \"minkowski\"\n",
       " ⋮\n",
       " \"antiDeSitter\"\n",
       " \"deSitter\"\n",
       " \"hypercylinder\"\n",
       " \"deSitter\"\n",
       " \"deSitter\"\n",
       " \"minkowski\"\n",
       " \"hypercylinder\"\n",
       " \"hypercylinder\"\n",
       " \"minkowski\""
      ]
     },
     "metadata": {},
     "output_type": "display_data"
    }
   ],
   "source": [
    "d = [first(shuffle_loader)[i].manifold for i in 1:32]"
   ]
  },
  {
   "cell_type": "markdown",
   "id": "12",
   "metadata": {},
   "source": [
    "Data is shuffled. Yay! We can do the same thing without shuffling, and should get the data in the order it is in the dataset"
   ]
  },
  {
   "cell_type": "code",
   "execution_count": 50,
   "id": "13",
   "metadata": {},
   "outputs": [
    {
     "data": {
      "text/plain": [
       "16-element DataLoader(::QuantumGrav.DataLoader.Dataset, batchsize=32)\n",
       "  with first element:\n",
       "  32-element Vector{@NamedTuple{past_relations::SubArray{SubArray{Int8, 1, Arrow.Primitive{Int8, Vector{Int8}}, Tuple{UnitRange{Int64}}, true}, 1, Arrow.List{SubArray{Int8, 1, Arrow.Primitive{Int8, Vector{Int8}}, Tuple{UnitRange{Int64}}, true}, Int32, Arrow.Primitive{Int8, Vector{Int8}}}, Tuple{UnitRange{Int64}}, true}, n::Float32, chains_4::Float32, chains_3::Float32, chains_10::Float32, link_matrix::SubArray{Float32, 1, Arrow.Primitive{Float32, Vector{Float32}}, Tuple{UnitRange{Int64}}, true}, chain_dimension_4::Float32, coords::SubArray{SubArray{Float32, 1, Arrow.Primitive{Float32, Vector{Float32}}, Tuple{UnitRange{Int64}}, true}, 1, Arrow.List{SubArray{Float32, 1, Arrow.Primitive{Float32, Vector{Float32}}, Tuple{UnitRange{Int64}}, true}, Int32, Arrow.Primitive{Float32, Vector{Float32}}}, Tuple{UnitRange{Int64}}, true}, relation_dimension::Float32, relation_count::Float32, cardinality_abundances::SubArray{Float32, 1, Arrow.Primitive{Float32, Vector{Float32}}, Tuple{UnitRange{Int64}}, true}, dimension::Float32, chain_dimension_3::Float32, manifold::String, future_relations::SubArray{SubArray{Int8, 1, Arrow.Primitive{Int8, Vector{Int8}}, Tuple{UnitRange{Int64}}, true}, 1, Arrow.List{SubArray{Int8, 1, Arrow.Primitive{Int8, Vector{Int8}}, Tuple{UnitRange{Int64}}, true}, Int32, Arrow.Primitive{Int8, Vector{Int8}}}, Tuple{UnitRange{Int64}}, true}, nmax::Float32, idx::Int64}}"
      ]
     },
     "metadata": {},
     "output_type": "display_data"
    }
   ],
   "source": [
    "deterministic_loader = Flux.DataLoader(\n",
    "    dset,\n",
    "    batchsize = 32,\n",
    "    shuffle = false,\n",
    ")"
   ]
  },
  {
   "cell_type": "code",
   "execution_count": 51,
   "id": "14",
   "metadata": {},
   "outputs": [
    {
     "data": {
      "text/plain": [
       "32-element Vector{String}:\n",
       " \"hypercylinder\"\n",
       " \"hypercylinder\"\n",
       " \"minkowski\"\n",
       " \"hypercylinder\"\n",
       " \"antiDeSitter\"\n",
       " \"antiDeSitter\"\n",
       " \"minkowski\"\n",
       " \"torus\"\n",
       " \"hypercylinder\"\n",
       " \"minkowski\"\n",
       " ⋮\n",
       " \"hypercylinder\"\n",
       " \"deSitter\"\n",
       " \"hypercylinder\"\n",
       " \"minkowski\"\n",
       " \"hypercylinder\"\n",
       " \"antiDeSitter\"\n",
       " \"antiDeSitter\"\n",
       " \"deSitter\"\n",
       " \"deSitter\""
      ]
     },
     "metadata": {},
     "output_type": "display_data"
    }
   ],
   "source": [
    "d = [first(deterministic_loader)[i].manifold for i in 1:32]"
   ]
  },
  {
   "cell_type": "markdown",
   "id": "15",
   "metadata": {},
   "source": [
    "It's ordered now. Yay!"
   ]
  },
  {
   "cell_type": "markdown",
   "id": "16",
   "metadata": {},
   "source": [
    "We can use some features from `MLUtils.jl` to split the data into train, test and validation loaders for example. note that the splits need to b in (0,1) (exclusive intervals!) and that the `splitob` function return an additional one for the last index that should be empty if the split fractions sum to 1, otherwise the last one contains the leftovers"
   ]
  },
  {
   "cell_type": "code",
   "execution_count": 12,
   "id": "17",
   "metadata": {},
   "outputs": [
    {
     "data": {
      "text/plain": [
       "(DataLoader(::MLUtils.ObsView{QuantumGrav.DataLoader.Dataset, UnitRange{Int64}}, shuffle=true, batchsize=16), DataLoader(::MLUtils.ObsView{QuantumGrav.DataLoader.Dataset, UnitRange{Int64}}, shuffle=true, batchsize=16), DataLoader(::MLUtils.ObsView{QuantumGrav.DataLoader.Dataset, UnitRange{Int64}}, shuffle=true, batchsize=16))"
      ]
     },
     "metadata": {},
     "output_type": "display_data"
    }
   ],
   "source": [
    "train_loader, valid_loader, test_loader = Flux.DataLoader.(Flux.splitobs(dset, at=(0.5, 0.3, 0.2))[1:3], \n",
    "    batchsize = 16,\n",
    "    shuffle = true,\n",
    ")"
   ]
  },
  {
   "cell_type": "code",
   "execution_count": 13,
   "id": "18",
   "metadata": {},
   "outputs": [
    {
     "data": {
      "text/plain": [
       "16-element DataLoader(::MLUtils.ObsView{QuantumGrav.DataLoader.Dataset, UnitRange{Int64}}, shuffle=true, batchsize=16)\n",
       "  with first element:\n",
       "  16-element Vector{@NamedTuple{past_relations::SubArray{SubArray{Int8, 1, Arrow.Primitive{Int8, Vector{Int8}}, Tuple{UnitRange{Int64}}, true}, 1, Arrow.List{SubArray{Int8, 1, Arrow.Primitive{Int8, Vector{Int8}}, Tuple{UnitRange{Int64}}, true}, Int32, Arrow.Primitive{Int8, Vector{Int8}}}, Tuple{UnitRange{Int64}}, true}, n::Float32, chains_4::Float32, chains_3::Float32, chains_10::Float32, link_matrix::SubArray{Float32, 1, Arrow.Primitive{Float32, Vector{Float32}}, Tuple{UnitRange{Int64}}, true}, chain_dimension_4::Float32, coords::SubArray{SubArray{Float32, 1, Arrow.Primitive{Float32, Vector{Float32}}, Tuple{UnitRange{Int64}}, true}, 1, Arrow.List{SubArray{Float32, 1, Arrow.Primitive{Float32, Vector{Float32}}, Tuple{UnitRange{Int64}}, true}, Int32, Arrow.Primitive{Float32, Vector{Float32}}}, Tuple{UnitRange{Int64}}, true}, relation_dimension::Float32, relation_count::Float32, cardinality_abundances::SubArray{Float32, 1, Arrow.Primitive{Float32, Vector{Float32}}, Tuple{UnitRange{Int64}}, true}, dimension::Float32, chain_dimension_3::Float32, manifold::String, future_relations::SubArray{SubArray{Int8, 1, Arrow.Primitive{Int8, Vector{Int8}}, Tuple{UnitRange{Int64}}, true}, 1, Arrow.List{SubArray{Int8, 1, Arrow.Primitive{Int8, Vector{Int8}}, Tuple{UnitRange{Int64}}, true}, Int32, Arrow.Primitive{Int8, Vector{Int8}}}, Tuple{UnitRange{Int64}}, true}, nmax::Float32, idx::Int64}}"
      ]
     },
     "metadata": {},
     "output_type": "display_data"
    }
   ],
   "source": [
    "train_loader"
   ]
  },
  {
   "cell_type": "code",
   "execution_count": 14,
   "id": "19",
   "metadata": {},
   "outputs": [
    {
     "data": {
      "text/plain": [
       "10-element DataLoader(::MLUtils.ObsView{QuantumGrav.DataLoader.Dataset, UnitRange{Int64}}, shuffle=true, batchsize=16)\n",
       "  with first element:\n",
       "  16-element Vector{NamedTuple}"
      ]
     },
     "metadata": {},
     "output_type": "display_data"
    }
   ],
   "source": [
    "valid_loader"
   ]
  },
  {
   "cell_type": "code",
   "execution_count": 15,
   "id": "20",
   "metadata": {},
   "outputs": [
    {
     "data": {
      "text/plain": [
       "7-element DataLoader(::MLUtils.ObsView{QuantumGrav.DataLoader.Dataset, UnitRange{Int64}}, shuffle=true, batchsize=16)\n",
       "  with first element:\n",
       "  16-element Vector{@NamedTuple{past_relations::SubArray{SubArray{Int8, 1, Arrow.Primitive{Int8, Vector{Int8}}, Tuple{UnitRange{Int64}}, true}, 1, Arrow.List{SubArray{Int8, 1, Arrow.Primitive{Int8, Vector{Int8}}, Tuple{UnitRange{Int64}}, true}, Int32, Arrow.Primitive{Int8, Vector{Int8}}}, Tuple{UnitRange{Int64}}, true}, relation_count::Float32, relation_dimension::Float32, coords::SubArray{SubArray{Float32, 1, Arrow.Primitive{Float32, Vector{Float32}}, Tuple{UnitRange{Int64}}, true}, 1, Arrow.List{SubArray{Float32, 1, Arrow.Primitive{Float32, Vector{Float32}}, Tuple{UnitRange{Int64}}, true}, Int32, Arrow.Primitive{Float32, Vector{Float32}}}, Tuple{UnitRange{Int64}}, true}, chain_dimension_3::Float32, cardinality_abundances::SubArray{Float32, 1, Arrow.Primitive{Float32, Vector{Float32}}, Tuple{UnitRange{Int64}}, true}, linkMatrix::SubArray{Float32, 1, Arrow.Primitive{Float32, Vector{Float32}}, Tuple{UnitRange{Int64}}, true}, manifold::String, idx::Int64, dimension::Float32, chain_dimension_4::Float32, chains_3::Float32, chains_4::Float32, chains_10::Float32, future_relations::SubArray{SubArray{Int8, 1, Arrow.Primitive{Int8, Vector{Int8}}, Tuple{UnitRange{Int64}}, true}, 1, Arrow.List{SubArray{Int8, 1, Arrow.Primitive{Int8, Vector{Int8}}, Tuple{UnitRange{Int64}}, true}, Int32, Arrow.Primitive{Int8, Vector{Int8}}}, Tuple{UnitRange{Int64}}, true}, n::Float32}}"
      ]
     },
     "metadata": {},
     "output_type": "display_data"
    }
   ],
   "source": [
    "test_loader"
   ]
  },
  {
   "cell_type": "markdown",
   "id": "21",
   "metadata": {},
   "source": [
    "data loaders should cover the full dataset"
   ]
  },
  {
   "cell_type": "code",
   "execution_count": 18,
   "id": "e3c60fea",
   "metadata": {},
   "outputs": [
    {
     "data": {
      "text/plain": [
       "528"
      ]
     },
     "metadata": {},
     "output_type": "display_data"
    }
   ],
   "source": [
    "(length(train_loader) + length(valid_loader) + length(test_loader)) * 16"
   ]
  },
  {
   "cell_type": "code",
   "execution_count": 21,
   "id": "22",
   "metadata": {},
   "outputs": [
    {
     "data": {
      "text/plain": [
       "true"
      ]
     },
     "metadata": {},
     "output_type": "display_data"
    }
   ],
   "source": [
    "(length(train_loader) + length(valid_loader) + length(test_loader)) * 16 >= length(dset) # >= because the last batch may be smaller than the batch size"
   ]
  },
  {
   "cell_type": "markdown",
   "id": "23",
   "metadata": {},
   "source": [
    "For k-fold cross validation, we can use the `kfolds` function"
   ]
  },
  {
   "cell_type": "code",
   "execution_count": 22,
   "id": "24",
   "metadata": {},
   "outputs": [
    {
     "name": "stdout",
     "output_type": "stream",
     "text": [
      "Training set size: 403\n",
      "Validation set size: 101\n",
      "Training set size: 403\n",
      "Validation set size: 101\n",
      "Training set size: 403\n",
      "Validation set size: 101\n",
      "Training set size: 403\n",
      "Validation set size: 101\n",
      "Training set size: 404\n",
      "Validation set size: 100\n"
     ]
    }
   ],
   "source": [
    "for (x_train, x_val) in Flux.kfolds(dset, 5)\n",
    "    println(\"Training set size: \", length(x_train))\n",
    "    println(\"Validation set size: \", length(x_val))\n",
    "end"
   ]
  },
  {
   "cell_type": "markdown",
   "id": "25",
   "metadata": {},
   "source": [
    "By default the folds are created using static splits. Use `shuffleobs` to randomly assign observations to the folds."
   ]
  },
  {
   "cell_type": "code",
   "execution_count": 23,
   "id": "26",
   "metadata": {},
   "outputs": [
    {
     "name": "stdout",
     "output_type": "stream",
     "text": [
      "Training set size: 403\n",
      "Validation set size: 101\n",
      "Training set size: 403\n",
      "Validation set size: 101\n",
      "Training set size: 403\n",
      "Validation set size: 101\n",
      "Training set size: 403\n",
      "Validation set size: 101\n",
      "Training set size: 404\n",
      "Validation set size: 100\n"
     ]
    }
   ],
   "source": [
    "for (x_train, x_val) in Flux.kfolds(Flux.shuffleobs(dset), 5)\n",
    "    println(\"Training set size: \", length(x_train))\n",
    "    println(\"Validation set size: \", length(x_val))\n",
    "end"
   ]
  },
  {
   "cell_type": "markdown",
   "id": "27",
   "metadata": {},
   "source": [
    "There is a lot more than this. Go to the `MLUtils.jl` documentation to learn more. "
   ]
  }
 ],
 "metadata": {
  "kernelspec": {
   "display_name": "Julia 1.11.5",
   "language": "julia",
   "name": "julia-1.11"
  },
  "language_info": {
   "file_extension": ".jl",
   "mimetype": "application/julia",
   "name": "julia",
   "version": "1.11.5"
  }
 },
 "nbformat": 4,
 "nbformat_minor": 5
}
