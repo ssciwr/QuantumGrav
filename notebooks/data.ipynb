{
 "cells": [
  {
   "cell_type": "code",
   "execution_count": null,
   "id": "0",
   "metadata": {},
   "outputs": [],
   "source": [
    "import Pkg \n",
    "Pkg.activate(\"./..\")"
   ]
  },
  {
   "cell_type": "code",
   "execution_count": null,
   "id": "1",
   "metadata": {},
   "outputs": [],
   "source": [
    "import QuantumGrav as QG\n",
    "import Flux \n",
    "import StructArrays as SA\n",
    "import CausalSets"
   ]
  },
  {
   "cell_type": "code",
   "execution_count": null,
   "id": "2",
   "metadata": {},
   "outputs": [],
   "source": [
    "equal_data = [QG.DataGeneration.generateDataForManifold(\n",
    "        ; dimension = 2,\n",
    "        manifoldname = m,\n",
    "        seed = 329478,\n",
    "        num_datapoints = 256,\n",
    "        equal_size = true,\n",
    "        size_distr = d -> CausalSets.Uniform(0.7 * 10^(d + 1), 1.1 * 10^(d + 1)),\n",
    "        make_diamond = d->CausalSets.CausalDiamondBoundary{d}(1.0),\n",
    "        make_box = d->CausalSets.BoxBoundary{d}((\n",
    "            ([-0.49 for i in 1:d]...,), ([0.49 for i in 1:d]...,)))\n",
    ") for m in [\"minkowski\", \"deSitter\", \"antiDeSitter\"]]"
   ]
  },
  {
   "cell_type": "code",
   "execution_count": null,
   "id": "3",
   "metadata": {},
   "outputs": [],
   "source": [
    "SA.StructArray(equal_data[1])"
   ]
  },
  {
   "cell_type": "code",
   "execution_count": null,
   "id": "4",
   "metadata": {},
   "outputs": [],
   "source": [
    "cat([ for d in equal_data]...; dims = 2)"
   ]
  },
  {
   "cell_type": "code",
   "execution_count": null,
   "id": "5",
   "metadata": {},
   "outputs": [],
   "source": []
  }
 ],
 "metadata": {
  "kernelspec": {
   "display_name": "Julia 1.11.5",
   "language": "julia",
   "name": "julia-1.11"
  },
  "language_info": {
   "file_extension": ".jl",
   "mimetype": "application/julia",
   "name": "julia",
   "version": "1.11.5"
  }
 },
 "nbformat": 4,
 "nbformat_minor": 5
}
