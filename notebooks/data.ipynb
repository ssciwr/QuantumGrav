{
 "cells": [
  {
   "cell_type": "code",
   "execution_count": null,
   "id": "0",
   "metadata": {},
   "outputs": [],
   "source": [
    "import Pkg \n",
    "Pkg.activate(\"./..\")"
   ]
  },
  {
   "cell_type": "code",
   "execution_count": null,
   "id": "1",
   "metadata": {},
   "outputs": [],
   "source": [
    "import QuantumGrav as QG\n",
    "import Flux \n",
    "import DataFrames\n",
    "import CausalSets\n",
    "import Arrow"
   ]
  },
  {
   "cell_type": "markdown",
   "id": "2",
   "metadata": {},
   "source": [
    "Generate some dummy data first. This is only there to demonstrate the usage of the `Dataset` type with the `Flux.Dataloader` type, so the details of data generation don´t matter here. "
   ]
  },
  {
   "cell_type": "code",
   "execution_count": null,
   "id": "3",
   "metadata": {},
   "outputs": [],
   "source": [
    "equal_data = [QG.DataGeneration.generateDataForManifold(\n",
    "        ; dimension = 2,\n",
    "        manifoldname = m,\n",
    "        seed = 329478,\n",
    "        num_datapoints = 256,\n",
    "        equal_size = true,\n",
    "        size_distr = d -> CausalSets.Uniform(0.7 * 10^(d + 1), 1.1 * 10^(d + 1)),\n",
    "        make_diamond = d->CausalSets.CausalDiamondBoundary{d}(1.0),\n",
    "        make_box = d->CausalSets.BoxBoundary{d}((\n",
    "            ([-0.49 for i in 1:d]...,), ([0.49 for i in 1:d]...,)))\n",
    ") for m in [\"minkowski\", \"deSitter\", \"antiDeSitter\"]]"
   ]
  },
  {
   "cell_type": "markdown",
   "id": "4",
   "metadata": {},
   "source": [
    "write a number of files from the generated data"
   ]
  },
  {
   "cell_type": "code",
   "execution_count": null,
   "id": "5",
   "metadata": {},
   "outputs": [],
   "source": [
    "dir = tempdir()\n",
    "for i in 1:length(equal_data)\n",
    "    Arrow.write(joinpath(tempdir(), \"testdata_$(i).arrow\"), equal_data[i])\n",
    "end"
   ]
  },
  {
   "cell_type": "markdown",
   "id": "6",
   "metadata": {},
   "source": [
    "Create a dataset from the thing. The dataset uses lazy loading to fetch data on demand, and caches some of it to allow for a compromise between memory usage and speed. "
   ]
  },
  {
   "cell_type": "code",
   "execution_count": null,
   "id": "7",
   "metadata": {},
   "outputs": [],
   "source": [
    "dset = QG.DataLoader.Dataset(\n",
    "    dir, \n",
    "    [\"testdata_1.arrow\",\"testdata_2.arrow\", \"testdata_2.arrow\"],\n",
    "    cache_size = 5\n",
    ")"
   ]
  },
  {
   "cell_type": "markdown",
   "id": "8",
   "metadata": {},
   "source": [
    "Use the created dataset with a Flux dataloader (itself based on `MLUtils.jl`). We use shuffle and confirm that the data is reordered in the first batch."
   ]
  },
  {
   "cell_type": "code",
   "execution_count": null,
   "id": "9",
   "metadata": {},
   "outputs": [],
   "source": [
    "[x.manifold for x in dset[collect(1:32)]] "
   ]
  },
  {
   "cell_type": "code",
   "execution_count": null,
   "id": "10",
   "metadata": {},
   "outputs": [],
   "source": [
    "shuffle_loader = Flux.DataLoader(\n",
    "    dset,\n",
    "    batchsize = 32,\n",
    "    shuffle = true,\n",
    ")"
   ]
  },
  {
   "cell_type": "code",
   "execution_count": null,
   "id": "11",
   "metadata": {},
   "outputs": [],
   "source": [
    "d = [first(shuffle_loader)[i].manifold for i in 1:32]"
   ]
  },
  {
   "cell_type": "markdown",
   "id": "12",
   "metadata": {},
   "source": [
    "Data is shuffled. Yay! We can do the same thing without shuffling, and should get the data in the order it is in the dataset"
   ]
  },
  {
   "cell_type": "code",
   "execution_count": null,
   "id": "13",
   "metadata": {},
   "outputs": [],
   "source": [
    "deterministic_loader = Flux.DataLoader(\n",
    "    dset,\n",
    "    batchsize = 32,\n",
    "    shuffle = false,\n",
    ")"
   ]
  },
  {
   "cell_type": "code",
   "execution_count": null,
   "id": "14",
   "metadata": {},
   "outputs": [],
   "source": [
    "d = [first(deterministic_loader)[i].manifold for i in 1:32]"
   ]
  },
  {
   "cell_type": "markdown",
   "id": "15",
   "metadata": {},
   "source": [
    "It's ordered now. Yay!"
   ]
  }
 ],
 "metadata": {
  "kernelspec": {
   "display_name": "Julia 1.11.5",
   "language": "julia",
   "name": "julia-1.11"
  },
  "language_info": {
   "file_extension": ".jl",
   "mimetype": "application/julia",
   "name": "julia",
   "version": "1.11.5"
  }
 },
 "nbformat": 4,
 "nbformat_minor": 5
}
