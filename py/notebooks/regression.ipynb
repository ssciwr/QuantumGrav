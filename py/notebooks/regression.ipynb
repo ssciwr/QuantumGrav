{
 "cells": [
  {
   "cell_type": "code",
   "execution_count": null,
   "id": "0",
   "metadata": {},
   "outputs": [],
   "source": [
    "import torch \n",
    "import torch_geometric\n",
    "import os\n",
    "from torch.nn import Linear \n",
    "import torch.nn.functional as F \n",
    "from torch_geometric.nn import GCNConv, GATConv, SAGEConv, GraphConv, GATv2Conv\n",
    "from torch_geometric.nn import global_mean_pool, global_max_pool, global_add_pool, SAGPooling, Set2Set"
   ]
  },
  {
   "cell_type": "code",
   "execution_count": null,
   "id": "1",
   "metadata": {},
   "outputs": [],
   "source": [
    "class GCNBlock(torch.nn.Module): \n",
    "\n",
    "    def __init__(self, input_dim, output_dim, hidden_dim, dropout=0.5, use_batch_norm=False, gcn_type=GCNConv, activation = F.relu, gcn_kwargs=None):\n",
    "        super(GCNBlock, self).__init__()\n",
    "        self.use_batch_norm = use_batch_norm\n",
    "        self.dropout = dropout\n",
    "        self.gcn_type = gcn_type\n",
    "        self.conv = gcn_type(input_dim, hidden_dim, **(gcn_kwargs if gcn_kwargs else {}))\n",
    "        self.activation = activation\n",
    "\n",
    "        if use_batch_norm: \n",
    "            self.batch_norm = torch.nn.BatchNorm1d(hidden_dim) # select the right normalization layer based on the input dimension \n",
    "        else:\n",
    "            self.batch_norm = torch.nn.Identity\n",
    "\n",
    "\n",
    "    def forward(self, x, edge_index):\n",
    "        x_res = x \n",
    "        x = self.conv(x, edge_index)\n",
    "        x = self.batch_norm(x, )\n",
    "        x = self.activation(x)\n",
    "        x = F.dropout(x, p=self.dropout, training=self.training)\n",
    "        x = x + x_res\n",
    "        return x\n"
   ]
  },
  {
   "cell_type": "code",
   "execution_count": null,
   "id": "2",
   "metadata": {},
   "outputs": [],
   "source": [
    "class RegressionBlock(torch.nn.Module): \n",
    "\n",
    "    def __init__(self, input_dim, output_dim, hidden_dims, activation = F.relu): \n",
    "        super(RegressionBlock, self).__init__()\n",
    "        self.activation = activation\n",
    "        self.hidden_dims = hidden_dims\n",
    "\n",
    "        if len(hidden_dims) == 0: \n",
    "            self.layers = Linear(input_dim, output_dim)\n",
    "        else: \n",
    "            layers = []\n",
    "            in_dim = input_dim\n",
    "            for hidden_dim in hidden_dims: \n",
    "                layers.append(Linear(in_dim, hidden_dim)) # check again if we need the bias there, I don't think so actually... \n",
    "                layers.append(activation)\n",
    "                in_dim = hidden_dim\n",
    "            layers.append(Linear(in_dim, output_dim))\n",
    "            self.layers = torch.nn.Sequential(*layers)\n",
    "\n",
    "    def forward(self, x): \n",
    "        x = self.layers(x) # <-- need softmax here somewhere? -> yes, for the categorical outputs, but not for the regression outputs\n",
    "        return x"
   ]
  },
  {
   "cell_type": "code",
   "execution_count": null,
   "id": "3",
   "metadata": {},
   "outputs": [],
   "source": [
    "class GraphFeaturesBlock(torch.nn.Module): \n",
    "\n",
    "    def __init__(self, input_dim, output_dim, hidden_dims, dropout=0.5, activation = F.relu): \n",
    "        super(GraphFeaturesBlock, self).__init__()\n",
    "        self.dropout = dropout\n",
    "        self.activation = activation\n",
    "        self.hidden_dims = hidden_dims\n",
    "\n",
    "        if len(hidden_dims) == 0: \n",
    "            self.linear = Linear(input_dim, output_dim)\n",
    "        else: \n",
    "            layers = []\n",
    "            in_dim = input_dim\n",
    "            for hidden_dim in hidden_dims: \n",
    "                layers.append(Linear(in_dim, hidden_dim)) # check bias\n",
    "                layers.append(activation)\n",
    "                in_dim = hidden_dim\n",
    "            layers.append(Linear(in_dim, output_dim))\n",
    "            self.linear = torch.nn.Sequential(*layers)\n",
    "\n",
    "    def forward(self, x): \n",
    "        x = self.linear(x)\n",
    "        return x"
   ]
  },
  {
   "cell_type": "markdown",
   "id": "4",
   "metadata": {},
   "source": [
    "basic model class to organize the other things. does the following: \n",
    "- passes input through gcn network. This is a succession of GCN blocks\n",
    "- applies graph feature network to graph level features and concatenates them with pooled node features **if** `use_graph_features = true`. \n",
    "\n",
    "- passes the result through the regression net to get out (dimension, boundary_id, manifold_id): \n",
    "```bash\n",
    "x -> gcn -> pool -> concat(_, g) -> regression -> output\n",
    "g ----------------> MLP_g(g) _|\n",
    "```"
   ]
  },
  {
   "cell_type": "code",
   "execution_count": null,
   "id": "5",
   "metadata": {},
   "outputs": [],
   "source": [
    "class GCNModel(torch.nn.Module): \n",
    "\n",
    "    def __init__(self, gcn_net, regression_net, graph_features_net, pooling_layer, use_graph_features=False):\n",
    "        super(GCNModel, self).__init__()\n",
    "        self.gcn_net = gcn_net\n",
    "        self.regression_net = regression_net\n",
    "        self.graph_features_net = graph_features_net\n",
    "        self.use_graph_features = use_graph_features\n",
    "        self.pooling_layer = pooling_layer\n",
    "\n",
    "    def forward(self, x, edge_index, batch, graph_features=None): \n",
    "        x = self.gcn_net(x, edge_index)\n",
    "        x = self.pooling_layer(x, batch)\n",
    "        if self.use_graph_features: \n",
    "            graph_features = self.graph_features_net(graph_features)\n",
    "            x = torch.cat((x, graph_features), dim=-1) # last dim\n",
    "        x = self.regression_net(x)\n",
    "        return x\n",
    "\n",
    "        \n"
   ]
  },
  {
   "cell_type": "markdown",
   "id": "6",
   "metadata": {},
   "source": [
    "**TODO**\n",
    "- [ ] how do GCNConv, GraphConv, SageConv work? \n",
    "- [ ] how does GlobalAttention, Set2Set work?\n",
    "- [ ] train the damn thing"
   ]
  },
  {
   "cell_type": "code",
   "execution_count": null,
   "id": "7",
   "metadata": {},
   "outputs": [],
   "source": []
  }
 ],
 "metadata": {
  "kernelspec": {
   "display_name": ".venv",
   "language": "python",
   "name": "python3"
  },
  "language_info": {
   "codemirror_mode": {
    "name": "ipython",
    "version": 3
   },
   "file_extension": ".py",
   "mimetype": "text/x-python",
   "name": "python",
   "nbconvert_exporter": "python",
   "pygments_lexer": "ipython3",
   "version": "3.13.5"
  }
 },
 "nbformat": 4,
 "nbformat_minor": 5
}
